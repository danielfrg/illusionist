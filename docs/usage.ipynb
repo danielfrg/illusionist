{
 "cells": [
  {
   "cell_type": "markdown",
   "metadata": {},
   "source": [
    "# Usage\n",
    "\n",
    "Using illusionist is very easy. You don't need to change anything on you current Jupyter Notebook or import any Python libraries to generate a report.\n",
    "\n",
    "Let's create a very simple notebook that does a multiplication operation using Widgets"
   ]
  },
  {
   "cell_type": "code",
   "execution_count": 6,
   "metadata": {},
   "outputs": [],
   "source": [
    "import ipywidgets as widgets"
   ]
  },
  {
   "cell_type": "code",
   "execution_count": 7,
   "metadata": {},
   "outputs": [
    {
     "data": {
      "application/vnd.jupyter.widget-view+json": {
       "model_id": "6ecff6f8835b4a61a1599bfa5db370d9",
       "version_major": 2,
       "version_minor": 0
      },
      "text/plain": [
       "IntSlider(value=5, description='Number', max=10)"
      ]
     },
     "metadata": {},
     "output_type": "display_data"
    }
   ],
   "source": [
    "slider = widgets.IntSlider(description=\"Number\", max=10, value=5)\n",
    "slider"
   ]
  },
  {
   "cell_type": "code",
   "execution_count": 8,
   "metadata": {},
   "outputs": [
    {
     "data": {
      "application/vnd.jupyter.widget-view+json": {
       "model_id": "5b06dda435914b298c3ac7e4193d5bdf",
       "version_major": 2,
       "version_minor": 0
      },
      "text/plain": [
       "BoundedIntText(value=2, description='Multiplier', max=5)"
      ]
     },
     "metadata": {},
     "output_type": "display_data"
    }
   ],
   "source": [
    "bounded_int = widgets.BoundedIntText(description=\"Multiplier\", value=2, min=0, max=5)\n",
    "bounded_int"
   ]
  },
  {
   "cell_type": "code",
   "execution_count": 9,
   "metadata": {},
   "outputs": [
    {
     "data": {
      "application/vnd.jupyter.widget-view+json": {
       "model_id": "1848743744d047918143904d91ee440e",
       "version_major": 2,
       "version_minor": 0
      },
      "text/plain": [
       "Label(value='')"
      ]
     },
     "metadata": {},
     "output_type": "display_data"
    }
   ],
   "source": [
    "multiplication = widgets.Label()\n",
    "multiplication"
   ]
  },
  {
   "cell_type": "code",
   "execution_count": 10,
   "metadata": {},
   "outputs": [],
   "source": [
    "def update_lbl(args):\n",
    "    multiplication.value = str(slider.value * bounded_int.value)\n",
    "\n",
    "update_lbl(None)\n",
    "    \n",
    "slider.observe(update_lbl, 'value')\n",
    "bounded_int.observe(update_lbl, 'value')"
   ]
  },
  {
   "cell_type": "markdown",
   "metadata": {},
   "source": [
    "<div class=\"admonition info\">\n",
    "<p class=\"admonition-title\">Info</p>\n",
    "<p>Note that the widgets in this docs page are not (yet) using illusionist. So the values will not be updated. Keep reading to see working examples.</p>\n",
    "</div>"
   ]
  },
  {
   "cell_type": "markdown",
   "metadata": {},
   "source": [
    "## Generating the report\n",
    "\n",
    "Now that we have a working set of Jupyter Widgets working we can convert it to an HTML file using `nbconvert` just add the `--to illusionist` argument.\n",
    "\n",
    "```\n",
    "jupyter nbconvert --to illusionist multiplier.ipynb\n",
    "```\n",
    "\n",
    "This will generate: [multiplier.html](/examples/multiplier.html) (open this file to see the final output).\n",
    "\n",
    "You can also add the illusionist metadata to an `.ipynb` file.\n",
    "\n",
    "```\n",
    "jupyter nbconvert --to illusionist-nb --execute multiplier.ipynb --output=multiplier-output.ipynb\n",
    "```\n",
    "\n",
    "You can then use [nbviewer.js](https://nbviewer.extrapolations.dev) to see it in a directly browser without converting it to an HTML file. See [multiplier-output.ipynb](https://nbviewer.extrapolations.dev/#/url/raw.githubusercontent.com/danielfrg/illusionist/master/examples/multiplier.ipynb)."
   ]
  },
  {
   "cell_type": "markdown",
   "metadata": {},
   "source": [
    "## Output Widgets\n",
    "\n",
    "You are not limited to using control Jupyter Widgets you can also use Output Widgets to for example show plots and other interactive components.\n",
    "\n",
    "See [matplotlib.ipynb](https://nbviewer.extrapolations.dev/#/url/raw.githubusercontent.com/danielfrg/illusionist/master/examples/matplotlib.ipynb)."
   ]
  }
 ],
 "metadata": {
  "kernelspec": {
   "display_name": "Python 3",
   "language": "python",
   "name": "python3"
  },
  "language_info": {
   "codemirror_mode": {
    "name": "ipython",
    "version": 3
   },
   "file_extension": ".py",
   "mimetype": "text/x-python",
   "name": "python",
   "nbconvert_exporter": "python",
   "pygments_lexer": "ipython3",
   "version": "3.7.8"
  },
  "widgets": {
   "application/vnd.jupyter.widget-state+json": {
    "state": {
     "06a5e2cd9112439db0e4252242603d0c": {
      "model_module": "@jupyter-widgets/controls",
      "model_module_version": "1.5.0",
      "model_name": "BoundedIntTextModel",
      "state": {
       "description": "Multiplier",
       "layout": "IPY_MODEL_a4bf6b6f30d7413d9b756b8250e227fd",
       "max": 5,
       "style": "IPY_MODEL_5771232ee7c3408a870e92267b9d3f26",
       "value": 2
      }
     },
     "0b38ec88df084e11b5723e71e7b4af53": {
      "model_module": "@jupyter-widgets/controls",
      "model_module_version": "1.5.0",
      "model_name": "SliderStyleModel",
      "state": {
       "description_width": ""
      }
     },
     "1848743744d047918143904d91ee440e": {
      "model_module": "@jupyter-widgets/controls",
      "model_module_version": "1.5.0",
      "model_name": "LabelModel",
      "state": {
       "layout": "IPY_MODEL_66dc628d3a37470dadfcf3d255878a29",
       "style": "IPY_MODEL_42f5d557389042e3851f5d70014769f7",
       "value": "10"
      }
     },
     "2293c91a2e0e44fe92166bb0fbf82761": {
      "model_module": "@jupyter-widgets/controls",
      "model_module_version": "1.5.0",
      "model_name": "IntSliderModel",
      "state": {
       "description": "Number",
       "layout": "IPY_MODEL_d3ede81d3408411592c64989feabc657",
       "max": 10,
       "style": "IPY_MODEL_e2496c34d88947f78213c34e9c6f6a57",
       "value": 9
      }
     },
     "42f5d557389042e3851f5d70014769f7": {
      "model_module": "@jupyter-widgets/controls",
      "model_module_version": "1.5.0",
      "model_name": "DescriptionStyleModel",
      "state": {
       "description_width": ""
      }
     },
     "5771232ee7c3408a870e92267b9d3f26": {
      "model_module": "@jupyter-widgets/controls",
      "model_module_version": "1.5.0",
      "model_name": "DescriptionStyleModel",
      "state": {
       "description_width": ""
      }
     },
     "5b06dda435914b298c3ac7e4193d5bdf": {
      "model_module": "@jupyter-widgets/controls",
      "model_module_version": "1.5.0",
      "model_name": "BoundedIntTextModel",
      "state": {
       "description": "Multiplier",
       "layout": "IPY_MODEL_d1aca05508ca45ee867bebd7279bead5",
       "max": 5,
       "style": "IPY_MODEL_e21f3e805d9441f9a878a642ac36ca32",
       "value": 2
      }
     },
     "66dc628d3a37470dadfcf3d255878a29": {
      "model_module": "@jupyter-widgets/base",
      "model_module_version": "1.2.0",
      "model_name": "LayoutModel",
      "state": {}
     },
     "6ecff6f8835b4a61a1599bfa5db370d9": {
      "model_module": "@jupyter-widgets/controls",
      "model_module_version": "1.5.0",
      "model_name": "IntSliderModel",
      "state": {
       "description": "Number",
       "layout": "IPY_MODEL_d4a6952a4ca345ab8a40e9433c159c16",
       "max": 10,
       "style": "IPY_MODEL_0b38ec88df084e11b5723e71e7b4af53",
       "value": 5
      }
     },
     "9cd6934d928a441cb38689c7f0a8229a": {
      "model_module": "@jupyter-widgets/base",
      "model_module_version": "1.2.0",
      "model_name": "LayoutModel",
      "state": {}
     },
     "a4bf6b6f30d7413d9b756b8250e227fd": {
      "model_module": "@jupyter-widgets/base",
      "model_module_version": "1.2.0",
      "model_name": "LayoutModel",
      "state": {}
     },
     "b9d8bf36618a4674a2a4e28b6f4e5888": {
      "model_module": "@jupyter-widgets/controls",
      "model_module_version": "1.5.0",
      "model_name": "DescriptionStyleModel",
      "state": {
       "description_width": ""
      }
     },
     "d1aca05508ca45ee867bebd7279bead5": {
      "model_module": "@jupyter-widgets/base",
      "model_module_version": "1.2.0",
      "model_name": "LayoutModel",
      "state": {}
     },
     "d3ede81d3408411592c64989feabc657": {
      "model_module": "@jupyter-widgets/base",
      "model_module_version": "1.2.0",
      "model_name": "LayoutModel",
      "state": {}
     },
     "d4a6952a4ca345ab8a40e9433c159c16": {
      "model_module": "@jupyter-widgets/base",
      "model_module_version": "1.2.0",
      "model_name": "LayoutModel",
      "state": {}
     },
     "e21f3e805d9441f9a878a642ac36ca32": {
      "model_module": "@jupyter-widgets/controls",
      "model_module_version": "1.5.0",
      "model_name": "DescriptionStyleModel",
      "state": {
       "description_width": ""
      }
     },
     "e2496c34d88947f78213c34e9c6f6a57": {
      "model_module": "@jupyter-widgets/controls",
      "model_module_version": "1.5.0",
      "model_name": "SliderStyleModel",
      "state": {
       "description_width": ""
      }
     },
     "fb9ca73f09c44afda0eb96a528b17bd7": {
      "model_module": "@jupyter-widgets/controls",
      "model_module_version": "1.5.0",
      "model_name": "LabelModel",
      "state": {
       "layout": "IPY_MODEL_9cd6934d928a441cb38689c7f0a8229a",
       "style": "IPY_MODEL_b9d8bf36618a4674a2a4e28b6f4e5888",
       "value": "18"
      }
     }
    },
    "version_major": 2,
    "version_minor": 0
   }
  }
 },
 "nbformat": 4,
 "nbformat_minor": 4
}
