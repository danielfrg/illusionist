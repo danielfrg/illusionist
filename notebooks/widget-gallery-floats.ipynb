{
 "cells": [
  {
   "cell_type": "markdown",
   "metadata": {},
   "source": [
    "# Widget Gallery"
   ]
  },
  {
   "cell_type": "markdown",
   "metadata": {},
   "source": [
    "# Numeric Widgets"
   ]
  },
  {
   "cell_type": "code",
   "execution_count": 1,
   "metadata": {},
   "outputs": [],
   "source": [
    "import ipywidgets as widgets"
   ]
  },
  {
   "cell_type": "markdown",
   "metadata": {},
   "source": [
    "### FloatSlider"
   ]
  },
  {
   "cell_type": "code",
   "execution_count": 2,
   "metadata": {},
   "outputs": [
    {
     "data": {
      "application/vnd.jupyter.widget-view+json": {
       "model_id": "77809415e61c469caaaac069be0ed25e",
       "version_major": 2,
       "version_minor": 0
      },
      "text/plain": [
       "FloatSlider(value=0.1, max=0.3)"
      ]
     },
     "metadata": {},
     "output_type": "display_data"
    }
   ],
   "source": [
    "float_slider = widgets.FloatSlider(value=0.1, min=0, max=0.3, step=0.1)\n",
    "float_slider"
   ]
  },
  {
   "cell_type": "code",
   "execution_count": 3,
   "metadata": {},
   "outputs": [
    {
     "data": {
      "application/vnd.jupyter.widget-view+json": {
       "model_id": "2bdf57a2c362409987d264d5e72c6bcc",
       "version_major": 2,
       "version_minor": 0
      },
      "text/plain": [
       "Label(value='')"
      ]
     },
     "metadata": {},
     "output_type": "display_data"
    }
   ],
   "source": [
    "float_slider_value = widgets.Label()\n",
    "float_slider_value"
   ]
  },
  {
   "cell_type": "code",
   "execution_count": 4,
   "metadata": {},
   "outputs": [],
   "source": [
    "def float_slider_update(args):\n",
    "    float_slider_value.value = str(float_slider.value)\n",
    "float_slider_update(None)\n",
    "float_slider.observe(float_slider_update, \"value\")"
   ]
  },
  {
   "cell_type": "code",
   "execution_count": 5,
   "metadata": {},
   "outputs": [
    {
     "data": {
      "text/plain": [
       "(0, 9, 3)"
      ]
     },
     "execution_count": 5,
     "metadata": {},
     "output_type": "execute_result"
    }
   ],
   "source": [
    "multiplier = int((float_slider.max - float_slider.min) * 10 / float_slider.step)\n",
    "min_ = int(float_slider.min * multiplier)\n",
    "max_ = int(float_slider.max * multiplier)\n",
    "step_ = int(float_slider.step * multiplier)\n",
    "min_, max_, step_"
   ]
  },
  {
   "cell_type": "code",
   "execution_count": 6,
   "metadata": {},
   "outputs": [
    {
     "data": {
      "text/plain": [
       "[0.0, 0.1, 0.2, 0.3]"
      ]
     },
     "execution_count": 6,
     "metadata": {},
     "output_type": "execute_result"
    }
   ],
   "source": [
    "[x / multiplier for x in range(min_, max_ + step_, step_)]"
   ]
  },
  {
   "cell_type": "markdown",
   "metadata": {},
   "source": [
    "### FloatLogSlider"
   ]
  },
  {
   "cell_type": "code",
   "execution_count": 7,
   "metadata": {},
   "outputs": [
    {
     "data": {
      "application/vnd.jupyter.widget-view+json": {
       "model_id": "3d084437ba8145dc9cfc63108fac4d8f",
       "version_major": 2,
       "version_minor": 0
      },
      "text/plain": [
       "FloatLogSlider(value=1.0, max=1.0, min=-1.0)"
      ]
     },
     "metadata": {},
     "output_type": "display_data"
    }
   ],
   "source": [
    "float_log_slider = widgets.FloatLogSlider(min=-1, max=1, base=10)\n",
    "float_log_slider"
   ]
  },
  {
   "cell_type": "code",
   "execution_count": 8,
   "metadata": {},
   "outputs": [
    {
     "data": {
      "application/vnd.jupyter.widget-view+json": {
       "model_id": "970d574f50a24e7c975d71399f9dd72f",
       "version_major": 2,
       "version_minor": 0
      },
      "text/plain": [
       "FloatProgress(value=0.0, max=10.0)"
      ]
     },
     "metadata": {},
     "output_type": "display_data"
    }
   ],
   "source": [
    "float_log_progress = widgets.FloatProgress(max=10)\n",
    "float_log_progress"
   ]
  },
  {
   "cell_type": "code",
   "execution_count": 9,
   "metadata": {},
   "outputs": [],
   "source": [
    "def float_log_slider_update(args):\n",
    "    float_log_progress.value = str(float_log_slider.value)\n",
    "float_log_slider_update(None)\n",
    "float_log_slider.observe(float_log_slider_update, \"value\")"
   ]
  },
  {
   "cell_type": "markdown",
   "metadata": {},
   "source": [
    "### FloatRangeSlider"
   ]
  },
  {
   "cell_type": "code",
   "execution_count": 10,
   "metadata": {},
   "outputs": [
    {
     "data": {
      "application/vnd.jupyter.widget-view+json": {
       "model_id": "510c5f5d75ef4688b2d95105de3fa9ee",
       "version_major": 2,
       "version_minor": 0
      },
      "text/plain": [
       "FloatRangeSlider(value=(0.2, 0.4), max=0.5)"
      ]
     },
     "metadata": {},
     "output_type": "display_data"
    }
   ],
   "source": [
    "float_range_slider = widgets.FloatRangeSlider(value=[0.2, 0.4], min=0, max=0.5, step=0.1)\n",
    "float_range_slider"
   ]
  },
  {
   "cell_type": "code",
   "execution_count": 11,
   "metadata": {},
   "outputs": [
    {
     "data": {
      "application/vnd.jupyter.widget-view+json": {
       "model_id": "366fd45072ae451e9b92117d93cd74a5",
       "version_major": 2,
       "version_minor": 0
      },
      "text/plain": [
       "Label(value='')"
      ]
     },
     "metadata": {},
     "output_type": "display_data"
    }
   ],
   "source": [
    "float_range_slider_value = widgets.Label()\n",
    "float_range_slider_value"
   ]
  },
  {
   "cell_type": "code",
   "execution_count": 12,
   "metadata": {},
   "outputs": [],
   "source": [
    "def float_range_slider_update(args):\n",
    "    float_range_slider_value.value = str(float_range_slider.value)\n",
    "float_range_slider_update(None)\n",
    "float_range_slider.observe(float_range_slider_update, \"value\")"
   ]
  },
  {
   "cell_type": "markdown",
   "metadata": {},
   "source": [
    "### BoundedFloatText"
   ]
  },
  {
   "cell_type": "code",
   "execution_count": 13,
   "metadata": {},
   "outputs": [
    {
     "data": {
      "application/vnd.jupyter.widget-view+json": {
       "model_id": "371d5a04dbb143bdac82fa77adfdec0e",
       "version_major": 2,
       "version_minor": 0
      },
      "text/plain": [
       "BoundedFloatText(value=1.1, max=1.5, min=1.0, step=0.1)"
      ]
     },
     "metadata": {},
     "output_type": "display_data"
    }
   ],
   "source": [
    "bounded_float_text = widgets.BoundedFloatText(value=1.1, min=1, max=1.5, step=0.1)\n",
    "bounded_float_text"
   ]
  },
  {
   "cell_type": "code",
   "execution_count": 14,
   "metadata": {},
   "outputs": [
    {
     "data": {
      "application/vnd.jupyter.widget-view+json": {
       "model_id": "f1d521c6b4e642639e5a6439d47cc412",
       "version_major": 2,
       "version_minor": 0
      },
      "text/plain": [
       "Label(value='')"
      ]
     },
     "metadata": {},
     "output_type": "display_data"
    }
   ],
   "source": [
    "bounded_float_text_value = widgets.Label()\n",
    "bounded_float_text_value"
   ]
  },
  {
   "cell_type": "code",
   "execution_count": 15,
   "metadata": {},
   "outputs": [],
   "source": [
    "def bounded_float_text_update(args):\n",
    "    bounded_float_text_value.value = str(bounded_float_text.value)\n",
    "bounded_float_text_update(None)\n",
    "bounded_float_text.observe(bounded_float_text_update, \"value\")"
   ]
  },
  {
   "cell_type": "code",
   "execution_count": null,
   "metadata": {},
   "outputs": [],
   "source": []
  }
 ],
 "metadata": {
  "kernelspec": {
   "display_name": "Python 3",
   "language": "python",
   "name": "python3"
  },
  "language_info": {
   "codemirror_mode": {
    "name": "ipython",
    "version": 3
   },
   "file_extension": ".py",
   "mimetype": "text/x-python",
   "name": "python",
   "nbconvert_exporter": "python",
   "pygments_lexer": "ipython3",
   "version": "3.7.6"
  },
  "widgets": {
   "application/vnd.jupyter.widget-state+json": {
    "state": {
     "0f2c2f3d3e1f4b1abcaeb58358ca97dc": {
      "model_module": "@jupyter-widgets/controls",
      "model_module_version": "1.5.0",
      "model_name": "DescriptionStyleModel",
      "state": {
       "description_width": ""
      }
     },
     "2bdf57a2c362409987d264d5e72c6bcc": {
      "model_module": "@jupyter-widgets/controls",
      "model_module_version": "1.5.0",
      "model_name": "LabelModel",
      "state": {
       "layout": "IPY_MODEL_5d784373088d4dbc9d5458e123e2c681",
       "style": "IPY_MODEL_336eadddc66e452397182db4930b1cd3",
       "value": "0.1"
      }
     },
     "336eadddc66e452397182db4930b1cd3": {
      "model_module": "@jupyter-widgets/controls",
      "model_module_version": "1.5.0",
      "model_name": "DescriptionStyleModel",
      "state": {
       "description_width": ""
      }
     },
     "366fd45072ae451e9b92117d93cd74a5": {
      "model_module": "@jupyter-widgets/controls",
      "model_module_version": "1.5.0",
      "model_name": "LabelModel",
      "state": {
       "layout": "IPY_MODEL_7fb99a328e3d4329aa48c9c7efdcba31",
       "style": "IPY_MODEL_fc6a9629e0b140a3a0fdc0473342cfa8",
       "value": "(0.2, 0.4)"
      }
     },
     "371d5a04dbb143bdac82fa77adfdec0e": {
      "model_module": "@jupyter-widgets/controls",
      "model_module_version": "1.5.0",
      "model_name": "BoundedFloatTextModel",
      "state": {
       "layout": "IPY_MODEL_d59592c79185407385b372ac2f21c779",
       "max": 1.5,
       "min": 1,
       "style": "IPY_MODEL_0f2c2f3d3e1f4b1abcaeb58358ca97dc",
       "value": 1.1
      }
     },
     "3d084437ba8145dc9cfc63108fac4d8f": {
      "model_module": "@jupyter-widgets/controls",
      "model_module_version": "1.5.0",
      "model_name": "FloatLogSliderModel",
      "state": {
       "layout": "IPY_MODEL_9053f9dffc40491ab9d31f3f41198d9b",
       "max": 1,
       "min": -1,
       "style": "IPY_MODEL_9acd7d7b40734a7188ba321557732115"
      }
     },
     "4255bfa0b8324abdaab574239a6cfbf9": {
      "model_module": "@jupyter-widgets/controls",
      "model_module_version": "1.5.0",
      "model_name": "DescriptionStyleModel",
      "state": {
       "description_width": ""
      }
     },
     "4518d9de6bd8498ab3487812353cf80f": {
      "model_module": "@jupyter-widgets/controls",
      "model_module_version": "1.5.0",
      "model_name": "SliderStyleModel",
      "state": {
       "description_width": ""
      }
     },
     "475a38d5ff274604b3f2c2e47bfff8cb": {
      "model_module": "@jupyter-widgets/base",
      "model_module_version": "1.2.0",
      "model_name": "LayoutModel",
      "state": {}
     },
     "510c5f5d75ef4688b2d95105de3fa9ee": {
      "model_module": "@jupyter-widgets/controls",
      "model_module_version": "1.5.0",
      "model_name": "FloatRangeSliderModel",
      "state": {
       "_model_name": "FloatRangeSliderModel",
       "_view_name": "FloatRangeSliderView",
       "layout": "IPY_MODEL_53f9d11b819e4384b1d290cd6ec97009",
       "max": 0.5,
       "step": 0.1,
       "style": "IPY_MODEL_4518d9de6bd8498ab3487812353cf80f",
       "value": [
        0.2,
        0.4
       ]
      }
     },
     "53f9d11b819e4384b1d290cd6ec97009": {
      "model_module": "@jupyter-widgets/base",
      "model_module_version": "1.2.0",
      "model_name": "LayoutModel",
      "state": {}
     },
     "5d784373088d4dbc9d5458e123e2c681": {
      "model_module": "@jupyter-widgets/base",
      "model_module_version": "1.2.0",
      "model_name": "LayoutModel",
      "state": {}
     },
     "6469f5b1d25a40dc81d9af1de2e8b511": {
      "model_module": "@jupyter-widgets/base",
      "model_module_version": "1.2.0",
      "model_name": "LayoutModel",
      "state": {}
     },
     "77809415e61c469caaaac069be0ed25e": {
      "model_module": "@jupyter-widgets/controls",
      "model_module_version": "1.5.0",
      "model_name": "FloatSliderModel",
      "state": {
       "layout": "IPY_MODEL_9c6ff8749606410898cfbd171f98814d",
       "max": 0.3,
       "step": 0.1,
       "style": "IPY_MODEL_fc82ded947eb45cfbab62606d574ae31",
       "value": 0.1
      }
     },
     "7fb99a328e3d4329aa48c9c7efdcba31": {
      "model_module": "@jupyter-widgets/base",
      "model_module_version": "1.2.0",
      "model_name": "LayoutModel",
      "state": {}
     },
     "9053f9dffc40491ab9d31f3f41198d9b": {
      "model_module": "@jupyter-widgets/base",
      "model_module_version": "1.2.0",
      "model_name": "LayoutModel",
      "state": {}
     },
     "970d574f50a24e7c975d71399f9dd72f": {
      "model_module": "@jupyter-widgets/controls",
      "model_module_version": "1.5.0",
      "model_name": "FloatProgressModel",
      "state": {
       "layout": "IPY_MODEL_475a38d5ff274604b3f2c2e47bfff8cb",
       "max": 10,
       "style": "IPY_MODEL_b4a44ac858fd47619babe34f71629245",
       "value": 1
      }
     },
     "9acd7d7b40734a7188ba321557732115": {
      "model_module": "@jupyter-widgets/controls",
      "model_module_version": "1.5.0",
      "model_name": "SliderStyleModel",
      "state": {
       "description_width": ""
      }
     },
     "9c6ff8749606410898cfbd171f98814d": {
      "model_module": "@jupyter-widgets/base",
      "model_module_version": "1.2.0",
      "model_name": "LayoutModel",
      "state": {}
     },
     "b4a44ac858fd47619babe34f71629245": {
      "model_module": "@jupyter-widgets/controls",
      "model_module_version": "1.5.0",
      "model_name": "ProgressStyleModel",
      "state": {
       "description_width": ""
      }
     },
     "d59592c79185407385b372ac2f21c779": {
      "model_module": "@jupyter-widgets/base",
      "model_module_version": "1.2.0",
      "model_name": "LayoutModel",
      "state": {}
     },
     "f1d521c6b4e642639e5a6439d47cc412": {
      "model_module": "@jupyter-widgets/controls",
      "model_module_version": "1.5.0",
      "model_name": "LabelModel",
      "state": {
       "layout": "IPY_MODEL_6469f5b1d25a40dc81d9af1de2e8b511",
       "style": "IPY_MODEL_4255bfa0b8324abdaab574239a6cfbf9",
       "value": "1.1"
      }
     },
     "fc6a9629e0b140a3a0fdc0473342cfa8": {
      "model_module": "@jupyter-widgets/controls",
      "model_module_version": "1.5.0",
      "model_name": "DescriptionStyleModel",
      "state": {
       "description_width": ""
      }
     },
     "fc82ded947eb45cfbab62606d574ae31": {
      "model_module": "@jupyter-widgets/controls",
      "model_module_version": "1.5.0",
      "model_name": "SliderStyleModel",
      "state": {
       "description_width": ""
      }
     }
    },
    "version_major": 2,
    "version_minor": 0
   }
  }
 },
 "nbformat": 4,
 "nbformat_minor": 4
}
