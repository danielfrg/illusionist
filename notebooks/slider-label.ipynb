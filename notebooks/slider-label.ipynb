{
 "cells": [
  {
   "cell_type": "code",
   "execution_count": 1,
   "metadata": {},
   "outputs": [],
   "source": [
    "import ipywidgets as widgets"
   ]
  },
  {
   "cell_type": "code",
   "execution_count": 2,
   "metadata": {},
   "outputs": [],
   "source": [
    "slider = widgets.IntSlider(description='Slider', max=3)"
   ]
  },
  {
   "cell_type": "code",
   "execution_count": 3,
   "metadata": {},
   "outputs": [],
   "source": [
    "int_input = widgets.BoundedIntText(description=\"Multiplier\", value=2, min=0, max=3)"
   ]
  },
  {
   "cell_type": "code",
   "execution_count": 4,
   "metadata": {},
   "outputs": [],
   "source": [
    "label_static = widgets.Label(value='Slider value:')\n",
    "label_static2 = widgets.Label(value='Multiplication value:')"
   ]
  },
  {
   "cell_type": "code",
   "execution_count": 5,
   "metadata": {},
   "outputs": [],
   "source": [
    "label_dynamic = widgets.Label()\n",
    "label_mult = widgets.Label()"
   ]
  },
  {
   "cell_type": "code",
   "execution_count": 6,
   "metadata": {},
   "outputs": [],
   "source": [
    "def update_lbls(args):\n",
    "    label_dynamic.value = str(slider.value)\n",
    "    label_mult.value = str(slider.value * int_input.value)\n",
    "\n",
    "slider.observe(update_lbls, 'value')\n",
    "int_input.observe(update_lbls, 'value')"
   ]
  },
  {
   "cell_type": "code",
   "execution_count": 7,
   "metadata": {},
   "outputs": [
    {
     "data": {
      "application/vnd.jupyter.widget-view+json": {
       "model_id": "6c20a920d0e044148db999f06b4c0346",
       "version_major": 2,
       "version_minor": 0
      },
      "text/plain": [
       "IntSlider(value=0, description='Slider', max=3)"
      ]
     },
     "metadata": {},
     "output_type": "display_data"
    },
    {
     "data": {
      "application/vnd.jupyter.widget-view+json": {
       "model_id": "b405b9d4df5a4c4a9d000c717b97fd48",
       "version_major": 2,
       "version_minor": 0
      },
      "text/plain": [
       "BoundedIntText(value=2, description='Multiplier', max=3)"
      ]
     },
     "metadata": {},
     "output_type": "display_data"
    },
    {
     "data": {
      "application/vnd.jupyter.widget-view+json": {
       "model_id": "098abd83fdef4514b84d5b4bb19549da",
       "version_major": 2,
       "version_minor": 0
      },
      "text/plain": [
       "Label(value='Slider value:')"
      ]
     },
     "metadata": {},
     "output_type": "display_data"
    },
    {
     "data": {
      "application/vnd.jupyter.widget-view+json": {
       "model_id": "8acd8ac6561b4ccd907dd80f2dd7810c",
       "version_major": 2,
       "version_minor": 0
      },
      "text/plain": [
       "Label(value='')"
      ]
     },
     "metadata": {},
     "output_type": "display_data"
    },
    {
     "data": {
      "application/vnd.jupyter.widget-view+json": {
       "model_id": "0778bc75dfe445d6a4debbe00db01e4d",
       "version_major": 2,
       "version_minor": 0
      },
      "text/plain": [
       "Label(value='Multiplication value:')"
      ]
     },
     "metadata": {},
     "output_type": "display_data"
    },
    {
     "data": {
      "application/vnd.jupyter.widget-view+json": {
       "model_id": "dff4c96ede38432284cad0e485fe7a8e",
       "version_major": 2,
       "version_minor": 0
      },
      "text/plain": [
       "Label(value='')"
      ]
     },
     "metadata": {},
     "output_type": "display_data"
    }
   ],
   "source": [
    "display(slider, int_input, label_static, label_dynamic, label_static2, label_mult)"
   ]
  },
  {
   "cell_type": "code",
   "execution_count": null,
   "metadata": {},
   "outputs": [],
   "source": []
  }
 ],
 "metadata": {
  "kernelspec": {
   "display_name": "Python 3",
   "language": "python",
   "name": "python3"
  },
  "language_info": {
   "codemirror_mode": {
    "name": "ipython",
    "version": 3
   },
   "file_extension": ".py",
   "mimetype": "text/x-python",
   "name": "python",
   "nbconvert_exporter": "python",
   "pygments_lexer": "ipython3",
   "version": "3.7.6"
  },
  "widgets": {
   "application/vnd.jupyter.widget-state+json": {
    "state": {
     "0778bc75dfe445d6a4debbe00db01e4d": {
      "model_module": "@jupyter-widgets/controls",
      "model_module_version": "1.5.0",
      "model_name": "LabelModel",
      "state": {
       "layout": "IPY_MODEL_c3da3574f061456c912add286e1c0257",
       "style": "IPY_MODEL_a2245108ad3b4c568b11332d70aa467e",
       "value": "Multiplication value:"
      }
     },
     "098abd83fdef4514b84d5b4bb19549da": {
      "model_module": "@jupyter-widgets/controls",
      "model_module_version": "1.5.0",
      "model_name": "LabelModel",
      "state": {
       "layout": "IPY_MODEL_c987c1f133aa431cb230fdf4bd4e53bc",
       "style": "IPY_MODEL_3fc7c3b0914f4c4d9bb5d3fe11ba8be2",
       "value": "Slider value:"
      }
     },
     "31eb8defb7564696b16426cb7a0a500c": {
      "model_module": "@jupyter-widgets/base",
      "model_module_version": "1.2.0",
      "model_name": "LayoutModel",
      "state": {}
     },
     "3fc7c3b0914f4c4d9bb5d3fe11ba8be2": {
      "model_module": "@jupyter-widgets/controls",
      "model_module_version": "1.5.0",
      "model_name": "DescriptionStyleModel",
      "state": {
       "description_width": ""
      }
     },
     "400074016269435ca2f1c10937109f2f": {
      "model_module": "@jupyter-widgets/base",
      "model_module_version": "1.2.0",
      "model_name": "LayoutModel",
      "state": {}
     },
     "57842ba691634be1a6c53a543d038697": {
      "model_module": "@jupyter-widgets/controls",
      "model_module_version": "1.5.0",
      "model_name": "DescriptionStyleModel",
      "state": {
       "description_width": ""
      }
     },
     "6c20a920d0e044148db999f06b4c0346": {
      "model_module": "@jupyter-widgets/controls",
      "model_module_version": "1.5.0",
      "model_name": "IntSliderModel",
      "state": {
       "description": "Slider",
       "layout": "IPY_MODEL_9498ba3f0ade4c2ebd15291ba3dae1b5",
       "max": 3,
       "style": "IPY_MODEL_ae922eaa84fd43a1bc9911589164cacd",
       "value": 2
      }
     },
     "81c8fb17e5fc401e91afe23aacd4b11f": {
      "model_module": "@jupyter-widgets/controls",
      "model_module_version": "1.5.0",
      "model_name": "DescriptionStyleModel",
      "state": {
       "description_width": ""
      }
     },
     "8acd8ac6561b4ccd907dd80f2dd7810c": {
      "model_module": "@jupyter-widgets/controls",
      "model_module_version": "1.5.0",
      "model_name": "LabelModel",
      "state": {
       "layout": "IPY_MODEL_f5ba1b630d9c45c69b0019cc7b664531",
       "style": "IPY_MODEL_dde9838b73c641be9082c9e48dd6b6ea",
       "value": "2"
      }
     },
     "9498ba3f0ade4c2ebd15291ba3dae1b5": {
      "model_module": "@jupyter-widgets/base",
      "model_module_version": "1.2.0",
      "model_name": "LayoutModel",
      "state": {}
     },
     "a2245108ad3b4c568b11332d70aa467e": {
      "model_module": "@jupyter-widgets/controls",
      "model_module_version": "1.5.0",
      "model_name": "DescriptionStyleModel",
      "state": {
       "description_width": ""
      }
     },
     "ae922eaa84fd43a1bc9911589164cacd": {
      "model_module": "@jupyter-widgets/controls",
      "model_module_version": "1.5.0",
      "model_name": "SliderStyleModel",
      "state": {
       "description_width": ""
      }
     },
     "b405b9d4df5a4c4a9d000c717b97fd48": {
      "model_module": "@jupyter-widgets/controls",
      "model_module_version": "1.5.0",
      "model_name": "BoundedIntTextModel",
      "state": {
       "description": "Multiplier",
       "layout": "IPY_MODEL_31eb8defb7564696b16426cb7a0a500c",
       "max": 3,
       "style": "IPY_MODEL_81c8fb17e5fc401e91afe23aacd4b11f",
       "value": 2
      }
     },
     "c3da3574f061456c912add286e1c0257": {
      "model_module": "@jupyter-widgets/base",
      "model_module_version": "1.2.0",
      "model_name": "LayoutModel",
      "state": {}
     },
     "c987c1f133aa431cb230fdf4bd4e53bc": {
      "model_module": "@jupyter-widgets/base",
      "model_module_version": "1.2.0",
      "model_name": "LayoutModel",
      "state": {}
     },
     "dde9838b73c641be9082c9e48dd6b6ea": {
      "model_module": "@jupyter-widgets/controls",
      "model_module_version": "1.5.0",
      "model_name": "DescriptionStyleModel",
      "state": {
       "description_width": ""
      }
     },
     "dff4c96ede38432284cad0e485fe7a8e": {
      "model_module": "@jupyter-widgets/controls",
      "model_module_version": "1.5.0",
      "model_name": "LabelModel",
      "state": {
       "layout": "IPY_MODEL_400074016269435ca2f1c10937109f2f",
       "style": "IPY_MODEL_57842ba691634be1a6c53a543d038697",
       "value": "4"
      }
     },
     "f5ba1b630d9c45c69b0019cc7b664531": {
      "model_module": "@jupyter-widgets/base",
      "model_module_version": "1.2.0",
      "model_name": "LayoutModel",
      "state": {}
     }
    },
    "version_major": 2,
    "version_minor": 0
   }
  }
 },
 "nbformat": 4,
 "nbformat_minor": 4
}
