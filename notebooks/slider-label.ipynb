{
 "cells": [
  {
   "cell_type": "code",
   "execution_count": 1,
   "metadata": {},
   "outputs": [],
   "source": [
    "import ipywidgets as widgets"
   ]
  },
  {
   "cell_type": "code",
   "execution_count": 2,
   "metadata": {},
   "outputs": [],
   "source": [
    "slider = widgets.IntSlider(description='Slider', max=3)"
   ]
  },
  {
   "cell_type": "code",
   "execution_count": 3,
   "metadata": {},
   "outputs": [],
   "source": [
    "int_input = widgets.BoundedIntText(description=\"Multiplier\", value=2, min=0, max=3)"
   ]
  },
  {
   "cell_type": "code",
   "execution_count": 4,
   "metadata": {},
   "outputs": [],
   "source": [
    "label_static = widgets.Label(value='Slider value:')\n",
    "label_static2 = widgets.Label(value='Multiplication value:')"
   ]
  },
  {
   "cell_type": "code",
   "execution_count": 5,
   "metadata": {},
   "outputs": [],
   "source": [
    "label_dynamic = widgets.Label()\n",
    "label_mult = widgets.Label()"
   ]
  },
  {
   "cell_type": "code",
   "execution_count": 6,
   "metadata": {},
   "outputs": [],
   "source": [
    "def update_lbls(args):\n",
    "    label_dynamic.value = str(slider.value)\n",
    "    label_mult.value = str(slider.value * int_input.value)\n",
    "\n",
    "slider.observe(update_lbls, 'value')\n",
    "int_input.observe(update_lbls, 'value')"
   ]
  },
  {
   "cell_type": "code",
   "execution_count": 7,
   "metadata": {},
   "outputs": [
    {
     "data": {
      "application/vnd.jupyter.widget-view+json": {
       "model_id": "9adcccaf40e64fe9af1881ed95bb8c78",
       "version_major": 2,
       "version_minor": 0
      },
      "text/plain": [
       "IntSlider(value=0, description='Slider', max=3)"
      ]
     },
     "metadata": {},
     "output_type": "display_data"
    },
    {
     "data": {
      "application/vnd.jupyter.widget-view+json": {
       "model_id": "f190ec6b72b142469a609e9078da06df",
       "version_major": 2,
       "version_minor": 0
      },
      "text/plain": [
       "BoundedIntText(value=2, description='Multiplier', max=3)"
      ]
     },
     "metadata": {},
     "output_type": "display_data"
    },
    {
     "data": {
      "application/vnd.jupyter.widget-view+json": {
       "model_id": "97d20cf0d57448249e544e8ece870c7e",
       "version_major": 2,
       "version_minor": 0
      },
      "text/plain": [
       "Label(value='Slider value:')"
      ]
     },
     "metadata": {},
     "output_type": "display_data"
    },
    {
     "data": {
      "application/vnd.jupyter.widget-view+json": {
       "model_id": "73d6843ddfdf4005b8597ed584d267af",
       "version_major": 2,
       "version_minor": 0
      },
      "text/plain": [
       "Label(value='')"
      ]
     },
     "metadata": {},
     "output_type": "display_data"
    },
    {
     "data": {
      "application/vnd.jupyter.widget-view+json": {
       "model_id": "f1b52efa697c4f8fa74ee4d1c03c56ab",
       "version_major": 2,
       "version_minor": 0
      },
      "text/plain": [
       "Label(value='Multiplication value:')"
      ]
     },
     "metadata": {},
     "output_type": "display_data"
    },
    {
     "data": {
      "application/vnd.jupyter.widget-view+json": {
       "model_id": "b49d493adbea4f05b48fc860b1b8a510",
       "version_major": 2,
       "version_minor": 0
      },
      "text/plain": [
       "Label(value='')"
      ]
     },
     "metadata": {},
     "output_type": "display_data"
    }
   ],
   "source": [
    "display(slider, int_input, label_static, label_dynamic, label_static2, label_mult)"
   ]
  },
  {
   "cell_type": "code",
   "execution_count": null,
   "metadata": {},
   "outputs": [],
   "source": []
  }
 ],
 "metadata": {
  "kernelspec": {
   "display_name": "Python 3",
   "language": "python",
   "name": "python3"
  },
  "language_info": {
   "codemirror_mode": {
    "name": "ipython",
    "version": 3
   },
   "file_extension": ".py",
   "mimetype": "text/x-python",
   "name": "python",
   "nbconvert_exporter": "python",
   "pygments_lexer": "ipython3",
   "version": "3.7.6"
  },
  "widgets": {
   "application/vnd.jupyter.widget-state+json": {
    "state": {
     "0376251290a944adb713336b05dc3b05": {
      "model_module": "@jupyter-widgets/base",
      "model_module_version": "1.2.0",
      "model_name": "LayoutModel",
      "state": {}
     },
     "413a466c688d44e0a5e51a98a2230d5a": {
      "model_module": "@jupyter-widgets/controls",
      "model_module_version": "1.5.0",
      "model_name": "DescriptionStyleModel",
      "state": {
       "description_width": ""
      }
     },
     "73d6843ddfdf4005b8597ed584d267af": {
      "model_module": "@jupyter-widgets/controls",
      "model_module_version": "1.5.0",
      "model_name": "LabelModel",
      "state": {
       "layout": "IPY_MODEL_ef982eec266747fcaab04fb779ba1cfd",
       "style": "IPY_MODEL_86b940c1a4a349f18559b3ff39389887",
       "value": "0"
      }
     },
     "8370649353134ef0a98fefd862249f1e": {
      "model_module": "@jupyter-widgets/base",
      "model_module_version": "1.2.0",
      "model_name": "LayoutModel",
      "state": {}
     },
     "84f4c11a2e924e21ba19a80ee1ce1bcf": {
      "model_module": "@jupyter-widgets/controls",
      "model_module_version": "1.5.0",
      "model_name": "DescriptionStyleModel",
      "state": {
       "description_width": ""
      }
     },
     "86b940c1a4a349f18559b3ff39389887": {
      "model_module": "@jupyter-widgets/controls",
      "model_module_version": "1.5.0",
      "model_name": "DescriptionStyleModel",
      "state": {
       "description_width": ""
      }
     },
     "97d20cf0d57448249e544e8ece870c7e": {
      "model_module": "@jupyter-widgets/controls",
      "model_module_version": "1.5.0",
      "model_name": "LabelModel",
      "state": {
       "layout": "IPY_MODEL_bdf6a543b648435da1c4a6a66647aa8e",
       "style": "IPY_MODEL_b606551ad3a14e95a77d8e100d7a37ea",
       "value": "Slider value:"
      }
     },
     "9adcccaf40e64fe9af1881ed95bb8c78": {
      "model_module": "@jupyter-widgets/controls",
      "model_module_version": "1.5.0",
      "model_name": "IntSliderModel",
      "state": {
       "description": "Slider",
       "layout": "IPY_MODEL_f865684b39b64e7891b3b17a7c98d4ab",
       "max": 3,
       "style": "IPY_MODEL_9afd25fb576c46418d024d3f335864ce"
      }
     },
     "9afd25fb576c46418d024d3f335864ce": {
      "model_module": "@jupyter-widgets/controls",
      "model_module_version": "1.5.0",
      "model_name": "SliderStyleModel",
      "state": {
       "description_width": ""
      }
     },
     "b49d493adbea4f05b48fc860b1b8a510": {
      "model_module": "@jupyter-widgets/controls",
      "model_module_version": "1.5.0",
      "model_name": "LabelModel",
      "state": {
       "layout": "IPY_MODEL_0376251290a944adb713336b05dc3b05",
       "style": "IPY_MODEL_84f4c11a2e924e21ba19a80ee1ce1bcf",
       "value": "0"
      }
     },
     "b606551ad3a14e95a77d8e100d7a37ea": {
      "model_module": "@jupyter-widgets/controls",
      "model_module_version": "1.5.0",
      "model_name": "DescriptionStyleModel",
      "state": {
       "description_width": ""
      }
     },
     "b6d16c591a33449d873defae7e5b325e": {
      "model_module": "@jupyter-widgets/base",
      "model_module_version": "1.2.0",
      "model_name": "LayoutModel",
      "state": {}
     },
     "bdf6a543b648435da1c4a6a66647aa8e": {
      "model_module": "@jupyter-widgets/base",
      "model_module_version": "1.2.0",
      "model_name": "LayoutModel",
      "state": {}
     },
     "cf4f9342e2cc44a0869e886a5ea9c157": {
      "model_module": "@jupyter-widgets/controls",
      "model_module_version": "1.5.0",
      "model_name": "DescriptionStyleModel",
      "state": {
       "description_width": ""
      }
     },
     "ef982eec266747fcaab04fb779ba1cfd": {
      "model_module": "@jupyter-widgets/base",
      "model_module_version": "1.2.0",
      "model_name": "LayoutModel",
      "state": {}
     },
     "f190ec6b72b142469a609e9078da06df": {
      "model_module": "@jupyter-widgets/controls",
      "model_module_version": "1.5.0",
      "model_name": "BoundedIntTextModel",
      "state": {
       "description": "Multiplier",
       "layout": "IPY_MODEL_8370649353134ef0a98fefd862249f1e",
       "max": 3,
       "style": "IPY_MODEL_cf4f9342e2cc44a0869e886a5ea9c157",
       "value": 2
      }
     },
     "f1b52efa697c4f8fa74ee4d1c03c56ab": {
      "model_module": "@jupyter-widgets/controls",
      "model_module_version": "1.5.0",
      "model_name": "LabelModel",
      "state": {
       "layout": "IPY_MODEL_b6d16c591a33449d873defae7e5b325e",
       "style": "IPY_MODEL_413a466c688d44e0a5e51a98a2230d5a",
       "value": "Multiplication value:"
      }
     },
     "f865684b39b64e7891b3b17a7c98d4ab": {
      "model_module": "@jupyter-widgets/base",
      "model_module_version": "1.2.0",
      "model_name": "LayoutModel",
      "state": {}
     }
    },
    "version_major": 2,
    "version_minor": 0
   }
  }
 },
 "nbformat": 4,
 "nbformat_minor": 4
}
