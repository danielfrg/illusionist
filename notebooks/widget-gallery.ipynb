{
 "cells": [
  {
   "cell_type": "markdown",
   "metadata": {},
   "source": [
    "# Widget Gallery"
   ]
  },
  {
   "cell_type": "markdown",
   "metadata": {},
   "source": [
    "# Numeric Widgets"
   ]
  },
  {
   "cell_type": "code",
   "execution_count": 1,
   "metadata": {},
   "outputs": [],
   "source": [
    "import ipywidgets as widgets"
   ]
  },
  {
   "cell_type": "markdown",
   "metadata": {},
   "source": [
    "### IntSlider"
   ]
  },
  {
   "cell_type": "code",
   "execution_count": 5,
   "metadata": {},
   "outputs": [
    {
     "data": {
      "application/vnd.jupyter.widget-view+json": {
       "model_id": "018a4bd96f334bb29d8d0d8c38c12d01",
       "version_major": 2,
       "version_minor": 0
      },
      "text/plain": [
       "IntSlider(value=1, max=5, min=1)"
      ]
     },
     "metadata": {},
     "output_type": "display_data"
    }
   ],
   "source": [
    "slider = widgets.IntSlider(min=1, max=5)\n",
    "slider"
   ]
  },
  {
   "cell_type": "code",
   "execution_count": 6,
   "metadata": {},
   "outputs": [
    {
     "data": {
      "application/vnd.jupyter.widget-view+json": {
       "model_id": "0cedcc48d98f49a9871b10d3401a44d5",
       "version_major": 2,
       "version_minor": 0
      },
      "text/plain": [
       "Label(value='')"
      ]
     },
     "metadata": {},
     "output_type": "display_data"
    }
   ],
   "source": [
    "slider_value = widgets.Label()\n",
    "slider_value"
   ]
  },
  {
   "cell_type": "code",
   "execution_count": 7,
   "metadata": {},
   "outputs": [],
   "source": [
    "def slider_update(args):\n",
    "    slider_value.value = str(slider.value)\n",
    "slider_update(None)\n",
    "slider.observe(slider_update, \"value\")"
   ]
  },
  {
   "cell_type": "markdown",
   "metadata": {},
   "source": [
    "### FloatSlider"
   ]
  },
  {
   "cell_type": "code",
   "execution_count": 33,
   "metadata": {},
   "outputs": [
    {
     "data": {
      "application/vnd.jupyter.widget-view+json": {
       "model_id": "c9f5e2cff7154f6cb047b73139e164a9",
       "version_major": 2,
       "version_minor": 0
      },
      "text/plain": [
       "FloatSlider(value=0.1, max=0.3)"
      ]
     },
     "metadata": {},
     "output_type": "display_data"
    }
   ],
   "source": [
    "float_slider = widgets.FloatSlider(value=0.1, min=0, max=0.3, step=0.1)\n",
    "float_slider"
   ]
  },
  {
   "cell_type": "code",
   "execution_count": 34,
   "metadata": {},
   "outputs": [
    {
     "data": {
      "application/vnd.jupyter.widget-view+json": {
       "model_id": "73fe973a74104477aa5b517ffdb78d9a",
       "version_major": 2,
       "version_minor": 0
      },
      "text/plain": [
       "Label(value='')"
      ]
     },
     "metadata": {},
     "output_type": "display_data"
    }
   ],
   "source": [
    "float_slider_value = widgets.Label()\n",
    "float_slider_value"
   ]
  },
  {
   "cell_type": "code",
   "execution_count": 35,
   "metadata": {},
   "outputs": [],
   "source": [
    "def float_slider_update(args):\n",
    "    float_slider_value.value = str(float_slider.value)\n",
    "float_slider_update(None)\n",
    "float_slider.observe(float_slider_update, \"value\")"
   ]
  },
  {
   "cell_type": "code",
   "execution_count": 37,
   "metadata": {},
   "outputs": [
    {
     "data": {
      "text/plain": [
       "(0, 9, 3)"
      ]
     },
     "execution_count": 37,
     "metadata": {},
     "output_type": "execute_result"
    }
   ],
   "source": [
    "multiplier = int((float_slider.max - float_slider.min) * 10 / float_slider.step)\n",
    "min_ = int(float_slider.min * multiplier)\n",
    "max_ = int(float_slider.max * multiplier)\n",
    "step_ = int(float_slider.step * multiplier)\n",
    "min_, max_, step_"
   ]
  },
  {
   "cell_type": "code",
   "execution_count": 38,
   "metadata": {},
   "outputs": [
    {
     "data": {
      "text/plain": [
       "[0.0, 0.1, 0.2, 0.3]"
      ]
     },
     "execution_count": 38,
     "metadata": {},
     "output_type": "execute_result"
    }
   ],
   "source": [
    "[x / multiplier for x in range(min_, max_ + step_, step_)]"
   ]
  },
  {
   "cell_type": "markdown",
   "metadata": {},
   "source": [
    "### FloatLogSlider"
   ]
  },
  {
   "cell_type": "code",
   "execution_count": 39,
   "metadata": {},
   "outputs": [
    {
     "data": {
      "application/vnd.jupyter.widget-view+json": {
       "model_id": "2954682f66ba4a05affe9a04e67c9304",
       "version_major": 2,
       "version_minor": 0
      },
      "text/plain": [
       "FloatLogSlider(value=1.0, max=1.0, min=-1.0)"
      ]
     },
     "metadata": {},
     "output_type": "display_data"
    }
   ],
   "source": [
    "float_log_slider = widgets.FloatLogSlider(min=-1, max=1, base=10)\n",
    "float_log_slider"
   ]
  },
  {
   "cell_type": "code",
   "execution_count": 40,
   "metadata": {},
   "outputs": [
    {
     "data": {
      "application/vnd.jupyter.widget-view+json": {
       "model_id": "d71582fa18bd426f833d62ccd117c4e4",
       "version_major": 2,
       "version_minor": 0
      },
      "text/plain": [
       "FloatProgress(value=0.0, max=10.0)"
      ]
     },
     "metadata": {},
     "output_type": "display_data"
    }
   ],
   "source": [
    "float_log_progress = widgets.FloatProgress(max=10)\n",
    "float_log_progress"
   ]
  },
  {
   "cell_type": "code",
   "execution_count": 41,
   "metadata": {},
   "outputs": [],
   "source": [
    "def float_log_slider_update(args):\n",
    "    float_log_progress.value = str(float_log_slider.value)\n",
    "float_log_slider_update(None)\n",
    "float_log_slider.observe(float_log_slider_update, \"value\")"
   ]
  },
  {
   "cell_type": "markdown",
   "metadata": {},
   "source": [
    "## IntRangeSlider"
   ]
  },
  {
   "cell_type": "code",
   "execution_count": 43,
   "metadata": {},
   "outputs": [
    {
     "data": {
      "application/vnd.jupyter.widget-view+json": {
       "model_id": "985803e78ab0469cbfab76e4bd4d9223",
       "version_major": 2,
       "version_minor": 0
      },
      "text/plain": [
       "IntRangeSlider(value=(1, 2), max=5)"
      ]
     },
     "metadata": {},
     "output_type": "display_data"
    }
   ],
   "source": [
    "int_range_slider = widgets.IntRangeSlider(value=[1, 2], min=0, max=5)\n",
    "int_range_slider"
   ]
  },
  {
   "cell_type": "code",
   "execution_count": 44,
   "metadata": {},
   "outputs": [
    {
     "data": {
      "application/vnd.jupyter.widget-view+json": {
       "model_id": "043d9a2b39944d7b9a90e574f21dc3a3",
       "version_major": 2,
       "version_minor": 0
      },
      "text/plain": [
       "Label(value='')"
      ]
     },
     "metadata": {},
     "output_type": "display_data"
    }
   ],
   "source": [
    "int_range_slider_value = widgets.Label()\n",
    "int_range_slider_value"
   ]
  },
  {
   "cell_type": "code",
   "execution_count": 45,
   "metadata": {},
   "outputs": [],
   "source": [
    "def int_range_slider_update(args):\n",
    "    int_range_slider_value.value = str(int_range_slider.value)\n",
    "int_range_slider_update(None)\n",
    "int_range_slider.observe(int_range_slider_update, \"value\")"
   ]
  },
  {
   "cell_type": "markdown",
   "metadata": {},
   "source": [
    "### FloatRangeSlider"
   ]
  },
  {
   "cell_type": "code",
   "execution_count": 46,
   "metadata": {},
   "outputs": [
    {
     "data": {
      "application/vnd.jupyter.widget-view+json": {
       "model_id": "5279c05bce1f4740a247f8f113283abe",
       "version_major": 2,
       "version_minor": 0
      },
      "text/plain": [
       "FloatRangeSlider(value=(0.2, 0.4), max=0.5)"
      ]
     },
     "metadata": {},
     "output_type": "display_data"
    }
   ],
   "source": [
    "float_range_slider = widgets.FloatRangeSlider(value=[0.2, 0.4], min=0, max=0.5, step=0.1)\n",
    "float_range_slider"
   ]
  },
  {
   "cell_type": "code",
   "execution_count": 47,
   "metadata": {},
   "outputs": [
    {
     "data": {
      "application/vnd.jupyter.widget-view+json": {
       "model_id": "342561e81b704bfc82bd348ed9a5cfda",
       "version_major": 2,
       "version_minor": 0
      },
      "text/plain": [
       "Label(value='')"
      ]
     },
     "metadata": {},
     "output_type": "display_data"
    }
   ],
   "source": [
    "float_range_slider_value = widgets.Label()\n",
    "float_range_slider_value"
   ]
  },
  {
   "cell_type": "code",
   "execution_count": 48,
   "metadata": {},
   "outputs": [],
   "source": [
    "def float_range_slider_update(args):\n",
    "    float_range_slider_value.value = str(float_range_slider.value)\n",
    "float_range_slider_update(None)\n",
    "float_range_slider.observe(float_range_slider_update, \"value\")"
   ]
  },
  {
   "cell_type": "markdown",
   "metadata": {},
   "source": [
    "### BoundedIntText"
   ]
  },
  {
   "cell_type": "code",
   "execution_count": 49,
   "metadata": {},
   "outputs": [
    {
     "data": {
      "application/vnd.jupyter.widget-view+json": {
       "model_id": "28515300d64e4a41b79dd725e93fb566",
       "version_major": 2,
       "version_minor": 0
      },
      "text/plain": [
       "BoundedIntText(value=-3, max=0, min=-5)"
      ]
     },
     "metadata": {},
     "output_type": "display_data"
    }
   ],
   "source": [
    "bounded_int_text = widgets.BoundedIntText(value=-3, min=-5, max=0)\n",
    "bounded_int_text"
   ]
  },
  {
   "cell_type": "code",
   "execution_count": 53,
   "metadata": {},
   "outputs": [
    {
     "data": {
      "application/vnd.jupyter.widget-view+json": {
       "model_id": "b468aaa32a1540d28cacae8f555c0a36",
       "version_major": 2,
       "version_minor": 0
      },
      "text/plain": [
       "IntProgress(value=-3, max=0, min=-5)"
      ]
     },
     "metadata": {},
     "output_type": "display_data"
    }
   ],
   "source": [
    "bounded_int_text_value = widgets.IntProgress(value=bounded_int_text.value, min=-5, max=0)\n",
    "bounded_int_text_value"
   ]
  },
  {
   "cell_type": "code",
   "execution_count": 54,
   "metadata": {},
   "outputs": [],
   "source": [
    "def bounded_int_text_update(args):\n",
    "    bounded_int_text_value.value = str(bounded_int_text.value)\n",
    "bounded_int_text_update(None)\n",
    "bounded_int_text.observe(bounded_int_text_update, \"value\")"
   ]
  },
  {
   "cell_type": "markdown",
   "metadata": {},
   "source": [
    "### BoundedFloatText"
   ]
  },
  {
   "cell_type": "code",
   "execution_count": 57,
   "metadata": {},
   "outputs": [
    {
     "data": {
      "application/vnd.jupyter.widget-view+json": {
       "model_id": "59dd1735ee054f5ca88cedf8b9317b98",
       "version_major": 2,
       "version_minor": 0
      },
      "text/plain": [
       "BoundedFloatText(value=1.1, max=1.5, min=1.0, step=0.1)"
      ]
     },
     "metadata": {},
     "output_type": "display_data"
    }
   ],
   "source": [
    "bounded_float_text = widgets.BoundedFloatText(value=1.1, min=1, max=1.5, step=0.1)\n",
    "bounded_float_text"
   ]
  },
  {
   "cell_type": "code",
   "execution_count": 58,
   "metadata": {},
   "outputs": [
    {
     "data": {
      "application/vnd.jupyter.widget-view+json": {
       "model_id": "417328083fe448c49460183951c01956",
       "version_major": 2,
       "version_minor": 0
      },
      "text/plain": [
       "Label(value='')"
      ]
     },
     "metadata": {},
     "output_type": "display_data"
    }
   ],
   "source": [
    "bounded_float_text_value = widgets.Label()\n",
    "bounded_float_text_value"
   ]
  },
  {
   "cell_type": "code",
   "execution_count": 59,
   "metadata": {},
   "outputs": [],
   "source": [
    "def bounded_float_text_update(args):\n",
    "    bounded_float_text_value.value = str(bounded_float_text.value)\n",
    "bounded_float_text_update(None)\n",
    "bounded_float_text.observe(bounded_float_text_update, \"value\")"
   ]
  },
  {
   "cell_type": "markdown",
   "metadata": {},
   "source": [
    "# Boolean Widgets"
   ]
  },
  {
   "cell_type": "markdown",
   "metadata": {},
   "source": [
    "### ToggleButton"
   ]
  },
  {
   "cell_type": "code",
   "execution_count": 60,
   "metadata": {},
   "outputs": [
    {
     "data": {
      "application/vnd.jupyter.widget-view+json": {
       "model_id": "a8a4f2a27e2f486cb37565520e4dcf40",
       "version_major": 2,
       "version_minor": 0
      },
      "text/plain": [
       "ToggleButton(value=False, description='Click me')"
      ]
     },
     "metadata": {},
     "output_type": "display_data"
    }
   ],
   "source": [
    "toggle_button = widgets.ToggleButton(description=\"Click me\")\n",
    "toggle_button"
   ]
  },
  {
   "cell_type": "code",
   "execution_count": 61,
   "metadata": {},
   "outputs": [
    {
     "data": {
      "application/vnd.jupyter.widget-view+json": {
       "model_id": "954c5135c06a47c5be9bdd584780f4b3",
       "version_major": 2,
       "version_minor": 0
      },
      "text/plain": [
       "Valid(value=False, description='Pressed')"
      ]
     },
     "metadata": {},
     "output_type": "display_data"
    }
   ],
   "source": [
    "toogle_button_value = widgets.Valid(description=\"Pressed\")\n",
    "toogle_button_value"
   ]
  },
  {
   "cell_type": "code",
   "execution_count": 62,
   "metadata": {},
   "outputs": [],
   "source": [
    "def toggle_button_update(args):\n",
    "    toogle_button_value.value = bool(toggle_button.value)\n",
    "toggle_button_update(None)\n",
    "toggle_button.observe(toggle_button_update, \"value\")"
   ]
  },
  {
   "cell_type": "markdown",
   "metadata": {},
   "source": [
    "### Checkbox"
   ]
  },
  {
   "cell_type": "code",
   "execution_count": 63,
   "metadata": {},
   "outputs": [
    {
     "data": {
      "application/vnd.jupyter.widget-view+json": {
       "model_id": "9f02b279a86e42db80366aabe7a8b39b",
       "version_major": 2,
       "version_minor": 0
      },
      "text/plain": [
       "Checkbox(value=False, description='Check me')"
      ]
     },
     "metadata": {},
     "output_type": "display_data"
    }
   ],
   "source": [
    "checkbox_button = widgets.Checkbox(description=\"Check me\")\n",
    "checkbox_button"
   ]
  },
  {
   "cell_type": "code",
   "execution_count": 64,
   "metadata": {},
   "outputs": [
    {
     "data": {
      "application/vnd.jupyter.widget-view+json": {
       "model_id": "0ed3a51bfa4940e09bf338b55ca5c565",
       "version_major": 2,
       "version_minor": 0
      },
      "text/plain": [
       "Label(value='')"
      ]
     },
     "metadata": {},
     "output_type": "display_data"
    }
   ],
   "source": [
    "checkbox_button_value = widgets.Label()\n",
    "checkbox_button_value"
   ]
  },
  {
   "cell_type": "code",
   "execution_count": 65,
   "metadata": {},
   "outputs": [],
   "source": [
    "def checkbox_button_update(args):\n",
    "    checkbox_button_value.value = str(checkbox_button.value)\n",
    "checkbox_button_update(None)\n",
    "checkbox_button.observe(checkbox_button_update, \"value\")"
   ]
  },
  {
   "cell_type": "markdown",
   "metadata": {},
   "source": [
    "# Selection widgets"
   ]
  },
  {
   "cell_type": "markdown",
   "metadata": {},
   "source": [
    "### Dropdown"
   ]
  },
  {
   "cell_type": "code",
   "execution_count": 66,
   "metadata": {},
   "outputs": [
    {
     "data": {
      "application/vnd.jupyter.widget-view+json": {
       "model_id": "6104165827a7473896a31997cd1ca2b8",
       "version_major": 2,
       "version_minor": 0
      },
      "text/plain": [
       "Dropdown(description='Number:', index=1, options=(('One', 1), ('Two', 2), ('Three', 3)), value=2)"
      ]
     },
     "metadata": {},
     "output_type": "display_data"
    }
   ],
   "source": [
    "options = [(\"One\", 1), (\"Two\", 2), (\"Three\", 3)]\n",
    "\n",
    "dropdown = widgets.Dropdown(options=options, value=2, description=\"Number:\")\n",
    "dropdown"
   ]
  },
  {
   "cell_type": "code",
   "execution_count": 67,
   "metadata": {},
   "outputs": [
    {
     "data": {
      "application/vnd.jupyter.widget-view+json": {
       "model_id": "29de58fff6f242b4830a4a72dfda3858",
       "version_major": 2,
       "version_minor": 0
      },
      "text/plain": [
       "Label(value='')"
      ]
     },
     "metadata": {},
     "output_type": "display_data"
    }
   ],
   "source": [
    "dropdown_value = widgets.Label()\n",
    "dropdown_value"
   ]
  },
  {
   "cell_type": "code",
   "execution_count": 68,
   "metadata": {},
   "outputs": [],
   "source": [
    "def dropdown_update(args):\n",
    "    dropdown_value.value = options[dropdown.value - 1][0]\n",
    "dropdown_update(None)\n",
    "dropdown.observe(dropdown_update, \"value\")"
   ]
  },
  {
   "cell_type": "markdown",
   "metadata": {},
   "source": [
    "### RadioButton"
   ]
  },
  {
   "cell_type": "code",
   "execution_count": 69,
   "metadata": {},
   "outputs": [
    {
     "data": {
      "application/vnd.jupyter.widget-view+json": {
       "model_id": "9f1b9d4c9aa649069d27389ebafb049b",
       "version_major": 2,
       "version_minor": 0
      },
      "text/plain": [
       "RadioButtons(options=('pepperoni', 'pineapple', 'anchovies'), value='pepperoni')"
      ]
     },
     "metadata": {},
     "output_type": "display_data"
    }
   ],
   "source": [
    "radio_button = widgets.RadioButtons(options=['pepperoni', 'pineapple', 'anchovies'])\n",
    "radio_button"
   ]
  },
  {
   "cell_type": "code",
   "execution_count": 70,
   "metadata": {},
   "outputs": [
    {
     "data": {
      "application/vnd.jupyter.widget-view+json": {
       "model_id": "56a1be0a71d9432ca3d77414d696229d",
       "version_major": 2,
       "version_minor": 0
      },
      "text/plain": [
       "Label(value='')"
      ]
     },
     "metadata": {},
     "output_type": "display_data"
    }
   ],
   "source": [
    "radio_button_value = widgets.Label()\n",
    "radio_button_value"
   ]
  },
  {
   "cell_type": "code",
   "execution_count": 71,
   "metadata": {},
   "outputs": [],
   "source": [
    "def radio_button_update(args):\n",
    "    radio_button_value.value = str(radio_button.value)\n",
    "radio_button_update(None)\n",
    "radio_button.observe(radio_button_update, \"value\")"
   ]
  },
  {
   "cell_type": "markdown",
   "metadata": {},
   "source": [
    "### Select"
   ]
  },
  {
   "cell_type": "code",
   "execution_count": 72,
   "metadata": {},
   "outputs": [
    {
     "data": {
      "application/vnd.jupyter.widget-view+json": {
       "model_id": "33b987dbf6ab463280fd6c679fb637cf",
       "version_major": 2,
       "version_minor": 0
      },
      "text/plain": [
       "Select(index=2, options=('Linux', 'Windows', 'OSX'), value='OSX')"
      ]
     },
     "metadata": {},
     "output_type": "display_data"
    }
   ],
   "source": [
    "select = widgets.Select(options=['Linux', 'Windows', 'OSX'], value='OSX')\n",
    "select"
   ]
  },
  {
   "cell_type": "code",
   "execution_count": 73,
   "metadata": {},
   "outputs": [
    {
     "data": {
      "application/vnd.jupyter.widget-view+json": {
       "model_id": "eabde2e1d88246b9ad8460a96f2b08c3",
       "version_major": 2,
       "version_minor": 0
      },
      "text/plain": [
       "RadioButtons(disabled=True, options=('Linux', 'Windows', 'OSX'), value='Linux')"
      ]
     },
     "metadata": {},
     "output_type": "display_data"
    }
   ],
   "source": [
    "select_value = widgets.RadioButtons(options=select.options, disabled=True)\n",
    "select_value"
   ]
  },
  {
   "cell_type": "code",
   "execution_count": 74,
   "metadata": {},
   "outputs": [],
   "source": [
    "def select_update(args):\n",
    "    select_value.value = str(select.value)\n",
    "select_update(None)\n",
    "select.observe(select_update, \"value\")"
   ]
  },
  {
   "cell_type": "markdown",
   "metadata": {},
   "source": [
    "### SelectionSlider"
   ]
  },
  {
   "cell_type": "code",
   "execution_count": 75,
   "metadata": {},
   "outputs": [
    {
     "data": {
      "application/vnd.jupyter.widget-view+json": {
       "model_id": "1985f7b949e943d998d0a4efc8fbceb9",
       "version_major": 2,
       "version_minor": 0
      },
      "text/plain": [
       "SelectionSlider(index=1, options=('scrambled', 'sunny side up', 'poached', 'over easy'), value='sunny side up'…"
      ]
     },
     "metadata": {},
     "output_type": "display_data"
    }
   ],
   "source": [
    "selection_slider = widgets.SelectionSlider(options=[\"scrambled\", \"sunny side up\", \"poached\", \"over easy\"], value=\"sunny side up\")\n",
    "selection_slider"
   ]
  },
  {
   "cell_type": "code",
   "execution_count": 76,
   "metadata": {},
   "outputs": [
    {
     "data": {
      "application/vnd.jupyter.widget-view+json": {
       "model_id": "2f0aa38d0a0f4343a515fe1ae4f90fab",
       "version_major": 2,
       "version_minor": 0
      },
      "text/plain": [
       "Label(value='')"
      ]
     },
     "metadata": {},
     "output_type": "display_data"
    }
   ],
   "source": [
    "selection_slider_value = widgets.Label()\n",
    "selection_slider_value"
   ]
  },
  {
   "cell_type": "code",
   "execution_count": 77,
   "metadata": {},
   "outputs": [],
   "source": [
    "def selection_slider_update(args):\n",
    "    selection_slider_value.value = str(selection_slider.value)\n",
    "selection_slider_update(None)\n",
    "selection_slider.observe(selection_slider_update, \"value\")"
   ]
  },
  {
   "cell_type": "markdown",
   "metadata": {},
   "source": [
    "### SelectionRangeSlider"
   ]
  },
  {
   "cell_type": "code",
   "execution_count": 92,
   "metadata": {},
   "outputs": [
    {
     "data": {
      "application/vnd.jupyter.widget-view+json": {
       "model_id": "c88763a4075f40a3ab7f01ce8f5f6e5e",
       "version_major": 2,
       "version_minor": 0
      },
      "text/plain": [
       "SelectionRangeSlider(description='Months', index=(1, 2), options=(('Jan', datetime.date(2015, 1, 1)), ('Feb', …"
      ]
     },
     "metadata": {},
     "output_type": "display_data"
    }
   ],
   "source": [
    "import datetime\n",
    "dates = [datetime.date(2015, i, 1) for i in range(1, 5)]\n",
    "options = [(i.strftime(\"%b\"), i) for i in dates]\n",
    "selection_range_slider = widgets.SelectionRangeSlider(\n",
    "    options=options,\n",
    "    index=(1, 2),\n",
    "    description=\"Months\",\n",
    ")\n",
    "selection_range_slider"
   ]
  },
  {
   "cell_type": "code",
   "execution_count": 93,
   "metadata": {},
   "outputs": [
    {
     "data": {
      "application/vnd.jupyter.widget-view+json": {
       "model_id": "555e8876a41849e696ec04f48f21d2cd",
       "version_major": 2,
       "version_minor": 0
      },
      "text/plain": [
       "Label(value='')"
      ]
     },
     "metadata": {},
     "output_type": "display_data"
    }
   ],
   "source": [
    "selection_range_slider_value = widgets.Label()\n",
    "selection_range_slider_value"
   ]
  },
  {
   "cell_type": "code",
   "execution_count": 94,
   "metadata": {},
   "outputs": [],
   "source": [
    "def selection_range_slider_update(args):\n",
    "    vals = [i.strftime(\"%b\") for i in selection_range_slider.value]\n",
    "    selection_range_slider_value.value = str(vals)\n",
    "selection_range_slider_update(None)\n",
    "selection_range_slider.observe(selection_range_slider_update, \"value\")"
   ]
  },
  {
   "cell_type": "markdown",
   "metadata": {},
   "source": [
    "### ToggleButtons"
   ]
  },
  {
   "cell_type": "code",
   "execution_count": 81,
   "metadata": {},
   "outputs": [
    {
     "data": {
      "application/vnd.jupyter.widget-view+json": {
       "model_id": "c1fab1a1ff294341a159aff7a48c539b",
       "version_major": 2,
       "version_minor": 0
      },
      "text/plain": [
       "ToggleButtons(options=('Slow', 'Regular', 'Fast'), value='Slow')"
      ]
     },
     "metadata": {},
     "output_type": "display_data"
    }
   ],
   "source": [
    "toggle_buttons = widgets.ToggleButtons(options=['Slow', 'Regular', 'Fast'])\n",
    "toggle_buttons"
   ]
  },
  {
   "cell_type": "code",
   "execution_count": 82,
   "metadata": {},
   "outputs": [
    {
     "data": {
      "application/vnd.jupyter.widget-view+json": {
       "model_id": "9b6c9bab86d54e79aa853bcb56bdddd1",
       "version_major": 2,
       "version_minor": 0
      },
      "text/plain": [
       "Label(value='')"
      ]
     },
     "metadata": {},
     "output_type": "display_data"
    }
   ],
   "source": [
    "toggle_buttons_value = widgets.Label()\n",
    "toggle_buttons_value"
   ]
  },
  {
   "cell_type": "code",
   "execution_count": 83,
   "metadata": {},
   "outputs": [],
   "source": [
    "def toggle_buttons_update(args):\n",
    "    toggle_buttons_value.value = str(toggle_buttons.value)\n",
    "toggle_buttons_update(None)\n",
    "toggle_buttons.observe(toggle_buttons_update, \"value\")"
   ]
  },
  {
   "cell_type": "markdown",
   "metadata": {},
   "source": [
    "### SelectMultiple"
   ]
  },
  {
   "cell_type": "code",
   "execution_count": 84,
   "metadata": {},
   "outputs": [
    {
     "data": {
      "application/vnd.jupyter.widget-view+json": {
       "model_id": "78329908903c407097b5fe8f86a2b7c3",
       "version_major": 2,
       "version_minor": 0
      },
      "text/plain": [
       "SelectMultiple(index=(0, 2), options=('Apples', 'Oranges', 'Pears'), value=('Apples', 'Pears'))"
      ]
     },
     "metadata": {},
     "output_type": "display_data"
    }
   ],
   "source": [
    "select_multiple = widgets.SelectMultiple(options=[\"Apples\", \"Oranges\", \"Pears\"], value=[\"Apples\", \"Pears\"])\n",
    "select_multiple"
   ]
  },
  {
   "cell_type": "code",
   "execution_count": 85,
   "metadata": {},
   "outputs": [
    {
     "data": {
      "application/vnd.jupyter.widget-view+json": {
       "model_id": "069e6bdd144741668dcd80da10156ef5",
       "version_major": 2,
       "version_minor": 0
      },
      "text/plain": [
       "SelectMultiple(disabled=True, options=('Apples', 'Oranges', 'Pears'), value=())"
      ]
     },
     "metadata": {},
     "output_type": "display_data"
    }
   ],
   "source": [
    "select_multiple_values = widgets.SelectMultiple(options=[\"Apples\", \"Oranges\", \"Pears\"], disabled=True)\n",
    "select_multiple_values"
   ]
  },
  {
   "cell_type": "code",
   "execution_count": 86,
   "metadata": {},
   "outputs": [],
   "source": [
    "def select_multiple_update(args):\n",
    "    select_multiple_values.value = select_multiple.value\n",
    "select_multiple_update(None)\n",
    "select_multiple.observe(select_multiple_update, \"value\")"
   ]
  },
  {
   "cell_type": "code",
   "execution_count": null,
   "metadata": {},
   "outputs": [],
   "source": []
  }
 ],
 "metadata": {
  "kernelspec": {
   "display_name": "Python 3",
   "language": "python",
   "name": "python3"
  },
  "language_info": {
   "codemirror_mode": {
    "name": "ipython",
    "version": 3
   },
   "file_extension": ".py",
   "mimetype": "text/x-python",
   "name": "python",
   "nbconvert_exporter": "python",
   "pygments_lexer": "ipython3",
   "version": "3.7.6"
  },
  "widgets": {
   "application/vnd.jupyter.widget-state+json": {
    "state": {
     "00bac6556edf4a3487e892c3acf1ab16": {
      "model_module": "@jupyter-widgets/base",
      "model_module_version": "1.2.0",
      "model_name": "LayoutModel",
      "state": {}
     },
     "00bec9ff56214d77975b4faf0da05ef5": {
      "model_module": "@jupyter-widgets/controls",
      "model_module_version": "1.5.0",
      "model_name": "FloatSliderModel",
      "state": {
       "layout": "IPY_MODEL_059d1fe5804048a3b9f795cfc780c8a3",
       "max": 0.4,
       "step": 0.1,
       "style": "IPY_MODEL_e762c7b1f64b4da2aaf5c4599fe2bae6",
       "value": 0.4
      }
     },
     "018a4bd96f334bb29d8d0d8c38c12d01": {
      "model_module": "@jupyter-widgets/controls",
      "model_module_version": "1.5.0",
      "model_name": "IntSliderModel",
      "state": {
       "layout": "IPY_MODEL_4cfd2faa4d3144c590a4949386e1c4b7",
       "max": 5,
       "min": 1,
       "style": "IPY_MODEL_b4a6b8c81529420d8df4953b013b3dc0",
       "value": 1
      }
     },
     "043d9a2b39944d7b9a90e574f21dc3a3": {
      "model_module": "@jupyter-widgets/controls",
      "model_module_version": "1.5.0",
      "model_name": "LabelModel",
      "state": {
       "layout": "IPY_MODEL_d4bb0d466ed3437887d81ac80fe9daeb",
       "style": "IPY_MODEL_901f8ef230d04bb0be524f1bb2140b7e",
       "value": "(1, 2)"
      }
     },
     "052a9a5cb5634875b0f3d7577fd7d769": {
      "model_module": "@jupyter-widgets/controls",
      "model_module_version": "1.5.0",
      "model_name": "DescriptionStyleModel",
      "state": {
       "description_width": ""
      }
     },
     "059d1fe5804048a3b9f795cfc780c8a3": {
      "model_module": "@jupyter-widgets/base",
      "model_module_version": "1.2.0",
      "model_name": "LayoutModel",
      "state": {}
     },
     "069e6bdd144741668dcd80da10156ef5": {
      "model_module": "@jupyter-widgets/controls",
      "model_module_version": "1.5.0",
      "model_name": "SelectMultipleModel",
      "state": {
       "_options_labels": [
        "Apples",
        "Oranges",
        "Pears"
       ],
       "disabled": true,
       "index": [
        0,
        2
       ],
       "layout": "IPY_MODEL_80c93ac81b614667ab518f1891990c41",
       "rows": 5,
       "style": "IPY_MODEL_b440449d00934fdb873b1929d4d076a0"
      }
     },
     "06d90b8876bf4145a6b6c42707d96cd2": {
      "model_module": "@jupyter-widgets/base",
      "model_module_version": "1.2.0",
      "model_name": "LayoutModel",
      "state": {}
     },
     "09251fbd4ccb45edb6d2cfa1eda6f2a7": {
      "model_module": "@jupyter-widgets/base",
      "model_module_version": "1.2.0",
      "model_name": "LayoutModel",
      "state": {}
     },
     "092c3fac5b4c4315ba65dbdd798635ce": {
      "model_module": "@jupyter-widgets/controls",
      "model_module_version": "1.5.0",
      "model_name": "DescriptionStyleModel",
      "state": {
       "description_width": ""
      }
     },
     "0a22ac97342949cfb1c5cb8973e45d1f": {
      "model_module": "@jupyter-widgets/base",
      "model_module_version": "1.2.0",
      "model_name": "LayoutModel",
      "state": {}
     },
     "0af0fa3c1b3a48e8985e9c67f11838d9": {
      "model_module": "@jupyter-widgets/base",
      "model_module_version": "1.2.0",
      "model_name": "LayoutModel",
      "state": {}
     },
     "0b48878043b4422294448b36eacaff5e": {
      "model_module": "@jupyter-widgets/controls",
      "model_module_version": "1.5.0",
      "model_name": "DescriptionStyleModel",
      "state": {
       "description_width": ""
      }
     },
     "0b545d3cafca4ba9ae4610c9c568f5df": {
      "model_module": "@jupyter-widgets/controls",
      "model_module_version": "1.5.0",
      "model_name": "SliderStyleModel",
      "state": {
       "description_width": ""
      }
     },
     "0b6276599d874ff880bc6bdbd125722d": {
      "model_module": "@jupyter-widgets/controls",
      "model_module_version": "1.5.0",
      "model_name": "SliderStyleModel",
      "state": {
       "description_width": ""
      }
     },
     "0c88a730ebf14cb2b45172e0911386ed": {
      "model_module": "@jupyter-widgets/controls",
      "model_module_version": "1.5.0",
      "model_name": "DescriptionStyleModel",
      "state": {
       "description_width": ""
      }
     },
     "0cedcc48d98f49a9871b10d3401a44d5": {
      "model_module": "@jupyter-widgets/controls",
      "model_module_version": "1.5.0",
      "model_name": "LabelModel",
      "state": {
       "layout": "IPY_MODEL_c5c6195eea794f85970b89f3cd01476c",
       "style": "IPY_MODEL_773092c0a3f7499f8d8aee64c2aa3f79",
       "value": "1"
      }
     },
     "0e4aacc111fc46c4a6e7bcf92b0dea6b": {
      "model_module": "@jupyter-widgets/controls",
      "model_module_version": "1.5.0",
      "model_name": "DescriptionStyleModel",
      "state": {
       "description_width": ""
      }
     },
     "0ed3a51bfa4940e09bf338b55ca5c565": {
      "model_module": "@jupyter-widgets/controls",
      "model_module_version": "1.5.0",
      "model_name": "LabelModel",
      "state": {
       "layout": "IPY_MODEL_06d90b8876bf4145a6b6c42707d96cd2",
       "style": "IPY_MODEL_32e54bb0ab7945c98c08135824b9b12e",
       "value": "False"
      }
     },
     "10c58897ee554bf7bfeb442d64cde91c": {
      "model_module": "@jupyter-widgets/controls",
      "model_module_version": "1.5.0",
      "model_name": "LabelModel",
      "state": {
       "layout": "IPY_MODEL_cd473bd48fa04a09b6a3bc947181d2b3",
       "style": "IPY_MODEL_56797fd4a9594f118a59942b79e42582",
       "value": "0.2"
      }
     },
     "115aeb525d184d958ed33253a292cd07": {
      "model_module": "@jupyter-widgets/controls",
      "model_module_version": "1.5.0",
      "model_name": "DescriptionStyleModel",
      "state": {
       "description_width": ""
      }
     },
     "18b780c6c7ea4942bb48c9f98fcdbac7": {
      "model_module": "@jupyter-widgets/base",
      "model_module_version": "1.2.0",
      "model_name": "LayoutModel",
      "state": {}
     },
     "1985f7b949e943d998d0a4efc8fbceb9": {
      "model_module": "@jupyter-widgets/controls",
      "model_module_version": "1.5.0",
      "model_name": "SelectionSliderModel",
      "state": {
       "_options_labels": [
        "scrambled",
        "sunny side up",
        "poached",
        "over easy"
       ],
       "index": 1,
       "layout": "IPY_MODEL_72eda46b7c184bab8e6a8bea2832513a",
       "style": "IPY_MODEL_ad2ef8e542864a4fbdc7af7f5c8ddc81"
      }
     },
     "1f1cd54d3eb1434c8965fd7d75365242": {
      "model_module": "@jupyter-widgets/controls",
      "model_module_version": "1.5.0",
      "model_name": "DescriptionStyleModel",
      "state": {
       "description_width": ""
      }
     },
     "2014fd9a1c0541639afe962bf7dc9506": {
      "model_module": "@jupyter-widgets/controls",
      "model_module_version": "1.5.0",
      "model_name": "LabelModel",
      "state": {
       "layout": "IPY_MODEL_2ba1785f1c0b42b8a138952eb0a6954e",
       "style": "IPY_MODEL_59169a648d1e40d096cba038ab4c7469",
       "value": "['Mar', 'Sep']"
      }
     },
     "21fbcb182e4c41d885df3602d286a15d": {
      "model_module": "@jupyter-widgets/controls",
      "model_module_version": "1.5.0",
      "model_name": "SelectionRangeSliderModel",
      "state": {
       "_model_name": "SelectionRangeSliderModel",
       "_options_labels": [
        "Jan",
        "Feb",
        "Mar",
        "Apr",
        "May",
        "Jun",
        "Jul",
        "Aug",
        "Sep",
        "Oct",
        "Nov",
        "Dec"
       ],
       "_view_name": "SelectionRangeSliderView",
       "description": "Months",
       "index": [
        2,
        8
       ],
       "layout": "IPY_MODEL_984539afe82146feb05684888f9bf687",
       "style": "IPY_MODEL_0b48878043b4422294448b36eacaff5e"
      }
     },
     "231d6fef06e4476f8fe9a8da26c399cb": {
      "model_module": "@jupyter-widgets/base",
      "model_module_version": "1.2.0",
      "model_name": "LayoutModel",
      "state": {}
     },
     "27c25cb2097644888792ea2560ef9852": {
      "model_module": "@jupyter-widgets/base",
      "model_module_version": "1.2.0",
      "model_name": "LayoutModel",
      "state": {}
     },
     "28515300d64e4a41b79dd725e93fb566": {
      "model_module": "@jupyter-widgets/controls",
      "model_module_version": "1.5.0",
      "model_name": "BoundedIntTextModel",
      "state": {
       "layout": "IPY_MODEL_387dd56489a04008abc6fcbd937091f5",
       "max": 0,
       "min": -5,
       "style": "IPY_MODEL_c3ea394f8bed4e709f78e8eb91fb890a",
       "value": -3
      }
     },
     "2954682f66ba4a05affe9a04e67c9304": {
      "model_module": "@jupyter-widgets/controls",
      "model_module_version": "1.5.0",
      "model_name": "FloatLogSliderModel",
      "state": {
       "layout": "IPY_MODEL_4e3dcf96d566469caa751811008551c6",
       "max": 1,
       "min": -1,
       "style": "IPY_MODEL_e3fa4f12dbda4185a766b2420db6aa1c"
      }
     },
     "29de58fff6f242b4830a4a72dfda3858": {
      "model_module": "@jupyter-widgets/controls",
      "model_module_version": "1.5.0",
      "model_name": "LabelModel",
      "state": {
       "layout": "IPY_MODEL_ab7218844c194d30bf9a3723da096d17",
       "style": "IPY_MODEL_052a9a5cb5634875b0f3d7577fd7d769",
       "value": "Two"
      }
     },
     "29e286cb313f491680e4b1c064639213": {
      "model_module": "@jupyter-widgets/base",
      "model_module_version": "1.2.0",
      "model_name": "LayoutModel",
      "state": {}
     },
     "2ba1785f1c0b42b8a138952eb0a6954e": {
      "model_module": "@jupyter-widgets/base",
      "model_module_version": "1.2.0",
      "model_name": "LayoutModel",
      "state": {}
     },
     "2d004e5820854d3dae6c3a492788b341": {
      "model_module": "@jupyter-widgets/base",
      "model_module_version": "1.2.0",
      "model_name": "LayoutModel",
      "state": {}
     },
     "2e3049486aec4351945bbba763ccaf78": {
      "model_module": "@jupyter-widgets/controls",
      "model_module_version": "1.5.0",
      "model_name": "DescriptionStyleModel",
      "state": {
       "description_width": ""
      }
     },
     "2f0aa38d0a0f4343a515fe1ae4f90fab": {
      "model_module": "@jupyter-widgets/controls",
      "model_module_version": "1.5.0",
      "model_name": "LabelModel",
      "state": {
       "layout": "IPY_MODEL_d6d147a249214eefbfc57f1213679807",
       "style": "IPY_MODEL_dc09b4db56f2437693ac62069cd622ec",
       "value": "sunny side up"
      }
     },
     "329f3694613543eb848d22107e9b2891": {
      "model_module": "@jupyter-widgets/controls",
      "model_module_version": "1.5.0",
      "model_name": "SelectionRangeSliderModel",
      "state": {
       "_model_name": "SelectionRangeSliderModel",
       "_options_labels": [
        "Jan",
        "Feb",
        "Mar",
        "Apr"
       ],
       "_view_name": "SelectionRangeSliderView",
       "description": "Months",
       "index": [
        1,
        2
       ],
       "layout": "IPY_MODEL_29e286cb313f491680e4b1c064639213",
       "style": "IPY_MODEL_5ff075532b3440a1b4a2c8ba09d2c676"
      }
     },
     "32e54bb0ab7945c98c08135824b9b12e": {
      "model_module": "@jupyter-widgets/controls",
      "model_module_version": "1.5.0",
      "model_name": "DescriptionStyleModel",
      "state": {
       "description_width": ""
      }
     },
     "33b987dbf6ab463280fd6c679fb637cf": {
      "model_module": "@jupyter-widgets/controls",
      "model_module_version": "1.5.0",
      "model_name": "SelectModel",
      "state": {
       "_options_labels": [
        "Linux",
        "Windows",
        "OSX"
       ],
       "index": 2,
       "layout": "IPY_MODEL_8abe1e90bc5c46b583e167c35340c5bf",
       "style": "IPY_MODEL_48737ad547df4679ae05c21f40076d92"
      }
     },
     "342561e81b704bfc82bd348ed9a5cfda": {
      "model_module": "@jupyter-widgets/controls",
      "model_module_version": "1.5.0",
      "model_name": "LabelModel",
      "state": {
       "layout": "IPY_MODEL_771170f27d614df6b3441664dabba915",
       "style": "IPY_MODEL_b126632f96e64792b6557d5767e2d157",
       "value": "(0.2, 0.4)"
      }
     },
     "387dd56489a04008abc6fcbd937091f5": {
      "model_module": "@jupyter-widgets/base",
      "model_module_version": "1.2.0",
      "model_name": "LayoutModel",
      "state": {}
     },
     "3d00d0bfec824d8d8e88d41d3e8e63e2": {
      "model_module": "@jupyter-widgets/controls",
      "model_module_version": "1.5.0",
      "model_name": "DescriptionStyleModel",
      "state": {
       "description_width": ""
      }
     },
     "3dbb8ac37cc94270a41b705a8cb1097b": {
      "model_module": "@jupyter-widgets/controls",
      "model_module_version": "1.5.0",
      "model_name": "FloatSliderModel",
      "state": {
       "layout": "IPY_MODEL_cb040be4439a48a6823d7b1f08f22bf7",
       "max": 0.3,
       "step": 0.1,
       "style": "IPY_MODEL_0b545d3cafca4ba9ae4610c9c568f5df",
       "value": 0.2
      }
     },
     "3de9590e3c20485f80f8a69fdede23c9": {
      "model_module": "@jupyter-widgets/base",
      "model_module_version": "1.2.0",
      "model_name": "LayoutModel",
      "state": {}
     },
     "417328083fe448c49460183951c01956": {
      "model_module": "@jupyter-widgets/controls",
      "model_module_version": "1.5.0",
      "model_name": "LabelModel",
      "state": {
       "layout": "IPY_MODEL_80da82a689b9452892d4e76f23cf27ec",
       "style": "IPY_MODEL_9265839a386b42c5838ddfcf90aa6e5f",
       "value": "1.1"
      }
     },
     "44b5157faba54ed8932b9f4e0d35a8be": {
      "model_module": "@jupyter-widgets/base",
      "model_module_version": "1.2.0",
      "model_name": "LayoutModel",
      "state": {}
     },
     "48737ad547df4679ae05c21f40076d92": {
      "model_module": "@jupyter-widgets/controls",
      "model_module_version": "1.5.0",
      "model_name": "DescriptionStyleModel",
      "state": {
       "description_width": ""
      }
     },
     "48f62c6343ff4f7bb034dd4f16debff7": {
      "model_module": "@jupyter-widgets/controls",
      "model_module_version": "1.5.0",
      "model_name": "DescriptionStyleModel",
      "state": {
       "description_width": ""
      }
     },
     "4cd0bc0af2614d52baf521bde570ce6a": {
      "model_module": "@jupyter-widgets/base",
      "model_module_version": "1.2.0",
      "model_name": "LayoutModel",
      "state": {}
     },
     "4cfd2faa4d3144c590a4949386e1c4b7": {
      "model_module": "@jupyter-widgets/base",
      "model_module_version": "1.2.0",
      "model_name": "LayoutModel",
      "state": {}
     },
     "4e3dcf96d566469caa751811008551c6": {
      "model_module": "@jupyter-widgets/base",
      "model_module_version": "1.2.0",
      "model_name": "LayoutModel",
      "state": {}
     },
     "4f5394dffdf4412896f1b5540ad5a408": {
      "model_module": "@jupyter-widgets/controls",
      "model_module_version": "1.5.0",
      "model_name": "FloatSliderModel",
      "state": {
       "layout": "IPY_MODEL_b06249dbd84d4401bd7add8f850e5a53",
       "max": 0.31,
       "step": 0.1,
       "style": "IPY_MODEL_9589c9fddeeb4915bab821ae5d5ed12d"
      }
     },
     "5279c05bce1f4740a247f8f113283abe": {
      "model_module": "@jupyter-widgets/controls",
      "model_module_version": "1.5.0",
      "model_name": "FloatRangeSliderModel",
      "state": {
       "_model_name": "FloatRangeSliderModel",
       "_view_name": "FloatRangeSliderView",
       "layout": "IPY_MODEL_2d004e5820854d3dae6c3a492788b341",
       "max": 0.5,
       "step": 0.1,
       "style": "IPY_MODEL_6ee55adff70d4916b7b7d6493fc78666",
       "value": [
        0.2,
        0.4
       ]
      }
     },
     "555e8876a41849e696ec04f48f21d2cd": {
      "model_module": "@jupyter-widgets/controls",
      "model_module_version": "1.5.0",
      "model_name": "LabelModel",
      "state": {
       "layout": "IPY_MODEL_44b5157faba54ed8932b9f4e0d35a8be",
       "style": "IPY_MODEL_0e4aacc111fc46c4a6e7bcf92b0dea6b",
       "value": "['Feb', 'Mar']"
      }
     },
     "55ac54bab3124e2e8a60c145dc4c7a7a": {
      "model_module": "@jupyter-widgets/controls",
      "model_module_version": "1.5.0",
      "model_name": "LabelModel",
      "state": {
       "layout": "IPY_MODEL_96298435506849c087e6e0d6cf7a9b93",
       "style": "IPY_MODEL_974df4a9dc25404c940965dc6adfe1a5",
       "value": "1"
      }
     },
     "56797fd4a9594f118a59942b79e42582": {
      "model_module": "@jupyter-widgets/controls",
      "model_module_version": "1.5.0",
      "model_name": "DescriptionStyleModel",
      "state": {
       "description_width": ""
      }
     },
     "56a1be0a71d9432ca3d77414d696229d": {
      "model_module": "@jupyter-widgets/controls",
      "model_module_version": "1.5.0",
      "model_name": "LabelModel",
      "state": {
       "layout": "IPY_MODEL_27c25cb2097644888792ea2560ef9852",
       "style": "IPY_MODEL_c4a74e54095240efac18967eec467064",
       "value": "pepperoni"
      }
     },
     "59169a648d1e40d096cba038ab4c7469": {
      "model_module": "@jupyter-widgets/controls",
      "model_module_version": "1.5.0",
      "model_name": "DescriptionStyleModel",
      "state": {
       "description_width": ""
      }
     },
     "59dd1735ee054f5ca88cedf8b9317b98": {
      "model_module": "@jupyter-widgets/controls",
      "model_module_version": "1.5.0",
      "model_name": "BoundedFloatTextModel",
      "state": {
       "layout": "IPY_MODEL_9eea549001d74c70b0179922118ff05e",
       "max": 1.5,
       "min": 1,
       "style": "IPY_MODEL_0c88a730ebf14cb2b45172e0911386ed",
       "value": 1.1
      }
     },
     "5bd4347e84ed4f3a88be7a0c80f45ea1": {
      "model_module": "@jupyter-widgets/controls",
      "model_module_version": "1.5.0",
      "model_name": "LabelModel",
      "state": {
       "layout": "IPY_MODEL_eb2526cf097447578055b2e8db8067e4",
       "style": "IPY_MODEL_c68ef983c01d4e65b681b2bb22bba44d"
      }
     },
     "5d848362af484015936c53cab71015c8": {
      "model_module": "@jupyter-widgets/controls",
      "model_module_version": "1.5.0",
      "model_name": "SliderStyleModel",
      "state": {
       "description_width": ""
      }
     },
     "5dc6093ffcf944b3854b1bd6b3039678": {
      "model_module": "@jupyter-widgets/controls",
      "model_module_version": "1.5.0",
      "model_name": "DescriptionStyleModel",
      "state": {
       "description_width": ""
      }
     },
     "5ff075532b3440a1b4a2c8ba09d2c676": {
      "model_module": "@jupyter-widgets/controls",
      "model_module_version": "1.5.0",
      "model_name": "DescriptionStyleModel",
      "state": {
       "description_width": ""
      }
     },
     "6104165827a7473896a31997cd1ca2b8": {
      "model_module": "@jupyter-widgets/controls",
      "model_module_version": "1.5.0",
      "model_name": "DropdownModel",
      "state": {
       "_options_labels": [
        "One",
        "Two",
        "Three"
       ],
       "description": "Number:",
       "index": 1,
       "layout": "IPY_MODEL_b31786b85d1445d5885e3196f45c79aa",
       "style": "IPY_MODEL_a80d2ae56bbf479d8dc11e73f13419bc"
      }
     },
     "6524dc9a81134ca69ddfbdf243dae1be": {
      "model_module": "@jupyter-widgets/controls",
      "model_module_version": "1.5.0",
      "model_name": "ProgressStyleModel",
      "state": {
       "description_width": ""
      }
     },
     "65a52cf570294f8fbab5e866733919a0": {
      "model_module": "@jupyter-widgets/base",
      "model_module_version": "1.2.0",
      "model_name": "LayoutModel",
      "state": {}
     },
     "65de1f4d67ef4b3281cdf4b9a7ad7621": {
      "model_module": "@jupyter-widgets/base",
      "model_module_version": "1.2.0",
      "model_name": "LayoutModel",
      "state": {}
     },
     "68f88eaf108f4c4f9a7953f3dd6055ee": {
      "model_module": "@jupyter-widgets/controls",
      "model_module_version": "1.5.0",
      "model_name": "FloatSliderModel",
      "state": {
       "layout": "IPY_MODEL_90eb9f64efad4d40b618faa62fcc46ba",
       "max": 0.3,
       "step": 0.1,
       "style": "IPY_MODEL_9547ecb292c04020b5fa739fe0941bc5",
       "value": 0.2
      }
     },
     "6ee55adff70d4916b7b7d6493fc78666": {
      "model_module": "@jupyter-widgets/controls",
      "model_module_version": "1.5.0",
      "model_name": "SliderStyleModel",
      "state": {
       "description_width": ""
      }
     },
     "72eda46b7c184bab8e6a8bea2832513a": {
      "model_module": "@jupyter-widgets/base",
      "model_module_version": "1.2.0",
      "model_name": "LayoutModel",
      "state": {}
     },
     "7375e08789e84d4f93050e65a70c7d7b": {
      "model_module": "@jupyter-widgets/controls",
      "model_module_version": "1.5.0",
      "model_name": "DescriptionStyleModel",
      "state": {
       "description_width": ""
      }
     },
     "73fe973a74104477aa5b517ffdb78d9a": {
      "model_module": "@jupyter-widgets/controls",
      "model_module_version": "1.5.0",
      "model_name": "LabelModel",
      "state": {
       "layout": "IPY_MODEL_18b780c6c7ea4942bb48c9f98fcdbac7",
       "style": "IPY_MODEL_8598dbf8dfa34f6c82d2e6fb248ef9bc",
       "value": "0.2"
      }
     },
     "754b5203ddcf4ecf949c546582627c2f": {
      "model_module": "@jupyter-widgets/controls",
      "model_module_version": "1.5.0",
      "model_name": "DescriptionStyleModel",
      "state": {
       "description_width": ""
      }
     },
     "75e0275a789d4b52948b91ab052b94f5": {
      "model_module": "@jupyter-widgets/base",
      "model_module_version": "1.2.0",
      "model_name": "LayoutModel",
      "state": {}
     },
     "771170f27d614df6b3441664dabba915": {
      "model_module": "@jupyter-widgets/base",
      "model_module_version": "1.2.0",
      "model_name": "LayoutModel",
      "state": {}
     },
     "773092c0a3f7499f8d8aee64c2aa3f79": {
      "model_module": "@jupyter-widgets/controls",
      "model_module_version": "1.5.0",
      "model_name": "DescriptionStyleModel",
      "state": {
       "description_width": ""
      }
     },
     "774816a0f258494f8c49002cccdf3248": {
      "model_module": "@jupyter-widgets/base",
      "model_module_version": "1.2.0",
      "model_name": "LayoutModel",
      "state": {}
     },
     "776d528a5eb841788a71bc3d1167c62c": {
      "model_module": "@jupyter-widgets/base",
      "model_module_version": "1.2.0",
      "model_name": "LayoutModel",
      "state": {}
     },
     "7784fc612b1c41a79caece9613129d71": {
      "model_module": "@jupyter-widgets/controls",
      "model_module_version": "1.5.0",
      "model_name": "ProgressStyleModel",
      "state": {
       "description_width": ""
      }
     },
     "78329908903c407097b5fe8f86a2b7c3": {
      "model_module": "@jupyter-widgets/controls",
      "model_module_version": "1.5.0",
      "model_name": "SelectMultipleModel",
      "state": {
       "_options_labels": [
        "Apples",
        "Oranges",
        "Pears"
       ],
       "index": [
        0,
        2
       ],
       "layout": "IPY_MODEL_852111a4329c45008ab5d64e4190afca",
       "rows": 5,
       "style": "IPY_MODEL_3d00d0bfec824d8d8e88d41d3e8e63e2"
      }
     },
     "79571c38b07949dbbab8031723faaf49": {
      "model_module": "@jupyter-widgets/controls",
      "model_module_version": "1.5.0",
      "model_name": "ProgressStyleModel",
      "state": {
       "description_width": ""
      }
     },
     "7ae1aec8daa1485995bd61a832f7cb9e": {
      "model_module": "@jupyter-widgets/controls",
      "model_module_version": "1.5.0",
      "model_name": "FloatSliderModel",
      "state": {
       "layout": "IPY_MODEL_231d6fef06e4476f8fe9a8da26c399cb",
       "max": 0.3,
       "step": 0.1,
       "style": "IPY_MODEL_e8eb6d53f8fd4be7bd51203b7d81981e",
       "value": 0.1
      }
     },
     "80c93ac81b614667ab518f1891990c41": {
      "model_module": "@jupyter-widgets/base",
      "model_module_version": "1.2.0",
      "model_name": "LayoutModel",
      "state": {}
     },
     "80da82a689b9452892d4e76f23cf27ec": {
      "model_module": "@jupyter-widgets/base",
      "model_module_version": "1.2.0",
      "model_name": "LayoutModel",
      "state": {}
     },
     "852111a4329c45008ab5d64e4190afca": {
      "model_module": "@jupyter-widgets/base",
      "model_module_version": "1.2.0",
      "model_name": "LayoutModel",
      "state": {}
     },
     "8598dbf8dfa34f6c82d2e6fb248ef9bc": {
      "model_module": "@jupyter-widgets/controls",
      "model_module_version": "1.5.0",
      "model_name": "DescriptionStyleModel",
      "state": {
       "description_width": ""
      }
     },
     "8abe1e90bc5c46b583e167c35340c5bf": {
      "model_module": "@jupyter-widgets/base",
      "model_module_version": "1.2.0",
      "model_name": "LayoutModel",
      "state": {}
     },
     "8fa67d07a8f74a69a6f0de882c07c00e": {
      "model_module": "@jupyter-widgets/base",
      "model_module_version": "1.2.0",
      "model_name": "LayoutModel",
      "state": {}
     },
     "901f8ef230d04bb0be524f1bb2140b7e": {
      "model_module": "@jupyter-widgets/controls",
      "model_module_version": "1.5.0",
      "model_name": "DescriptionStyleModel",
      "state": {
       "description_width": ""
      }
     },
     "90eb9f64efad4d40b618faa62fcc46ba": {
      "model_module": "@jupyter-widgets/base",
      "model_module_version": "1.2.0",
      "model_name": "LayoutModel",
      "state": {}
     },
     "9265839a386b42c5838ddfcf90aa6e5f": {
      "model_module": "@jupyter-widgets/controls",
      "model_module_version": "1.5.0",
      "model_name": "DescriptionStyleModel",
      "state": {
       "description_width": ""
      }
     },
     "944afefcb41c40b88b95123ece42e384": {
      "model_module": "@jupyter-widgets/base",
      "model_module_version": "1.2.0",
      "model_name": "LayoutModel",
      "state": {}
     },
     "95367265e93f407681b6b5147d319ac2": {
      "model_module": "@jupyter-widgets/base",
      "model_module_version": "1.2.0",
      "model_name": "LayoutModel",
      "state": {}
     },
     "9547ecb292c04020b5fa739fe0941bc5": {
      "model_module": "@jupyter-widgets/controls",
      "model_module_version": "1.5.0",
      "model_name": "SliderStyleModel",
      "state": {
       "description_width": ""
      }
     },
     "954c5135c06a47c5be9bdd584780f4b3": {
      "model_module": "@jupyter-widgets/controls",
      "model_module_version": "1.5.0",
      "model_name": "ValidModel",
      "state": {
       "description": "Pressed",
       "layout": "IPY_MODEL_776d528a5eb841788a71bc3d1167c62c",
       "style": "IPY_MODEL_2e3049486aec4351945bbba763ccaf78"
      }
     },
     "9589c9fddeeb4915bab821ae5d5ed12d": {
      "model_module": "@jupyter-widgets/controls",
      "model_module_version": "1.5.0",
      "model_name": "SliderStyleModel",
      "state": {
       "description_width": ""
      }
     },
     "96298435506849c087e6e0d6cf7a9b93": {
      "model_module": "@jupyter-widgets/base",
      "model_module_version": "1.2.0",
      "model_name": "LayoutModel",
      "state": {}
     },
     "9629fc0ca3f94a45ac63a7d76a8078e6": {
      "model_module": "@jupyter-widgets/base",
      "model_module_version": "1.2.0",
      "model_name": "LayoutModel",
      "state": {}
     },
     "974df4a9dc25404c940965dc6adfe1a5": {
      "model_module": "@jupyter-widgets/controls",
      "model_module_version": "1.5.0",
      "model_name": "DescriptionStyleModel",
      "state": {
       "description_width": ""
      }
     },
     "984539afe82146feb05684888f9bf687": {
      "model_module": "@jupyter-widgets/base",
      "model_module_version": "1.2.0",
      "model_name": "LayoutModel",
      "state": {}
     },
     "985803e78ab0469cbfab76e4bd4d9223": {
      "model_module": "@jupyter-widgets/controls",
      "model_module_version": "1.5.0",
      "model_name": "IntRangeSliderModel",
      "state": {
       "_model_name": "IntRangeSliderModel",
       "_view_name": "IntRangeSliderView",
       "layout": "IPY_MODEL_fad898abc364472faf3a296331050246",
       "max": 5,
       "style": "IPY_MODEL_0b6276599d874ff880bc6bdbd125722d",
       "value": [
        1,
        2
       ]
      }
     },
     "9b6c9bab86d54e79aa853bcb56bdddd1": {
      "model_module": "@jupyter-widgets/controls",
      "model_module_version": "1.5.0",
      "model_name": "LabelModel",
      "state": {
       "layout": "IPY_MODEL_fcf95a73cf264d74bab03830e12ff115",
       "style": "IPY_MODEL_754b5203ddcf4ecf949c546582627c2f",
       "value": "Slow"
      }
     },
     "9eea549001d74c70b0179922118ff05e": {
      "model_module": "@jupyter-widgets/base",
      "model_module_version": "1.2.0",
      "model_name": "LayoutModel",
      "state": {}
     },
     "9f02b279a86e42db80366aabe7a8b39b": {
      "model_module": "@jupyter-widgets/controls",
      "model_module_version": "1.5.0",
      "model_name": "CheckboxModel",
      "state": {
       "description": "Check me",
       "disabled": false,
       "layout": "IPY_MODEL_9629fc0ca3f94a45ac63a7d76a8078e6",
       "style": "IPY_MODEL_d7cbeb6aec784a1582390a8dfb36ae72",
       "value": false
      }
     },
     "9f1b9d4c9aa649069d27389ebafb049b": {
      "model_module": "@jupyter-widgets/controls",
      "model_module_version": "1.5.0",
      "model_name": "RadioButtonsModel",
      "state": {
       "_options_labels": [
        "pepperoni",
        "pineapple",
        "anchovies"
       ],
       "index": 0,
       "layout": "IPY_MODEL_774816a0f258494f8c49002cccdf3248",
       "style": "IPY_MODEL_092c3fac5b4c4315ba65dbdd798635ce"
      }
     },
     "a4c55d4df7034c769840625cda49fd80": {
      "model_module": "@jupyter-widgets/controls",
      "model_module_version": "1.5.0",
      "model_name": "SelectionRangeSliderModel",
      "state": {
       "_model_name": "SelectionRangeSliderModel",
       "_options_labels": [
        "Jan",
        "Feb",
        "Mar",
        "Apr"
       ],
       "_view_name": "SelectionRangeSliderView",
       "description": "Months",
       "index": [
        2,
        3
       ],
       "layout": "IPY_MODEL_65de1f4d67ef4b3281cdf4b9a7ad7621",
       "style": "IPY_MODEL_7375e08789e84d4f93050e65a70c7d7b"
      }
     },
     "a80d2ae56bbf479d8dc11e73f13419bc": {
      "model_module": "@jupyter-widgets/controls",
      "model_module_version": "1.5.0",
      "model_name": "DescriptionStyleModel",
      "state": {
       "description_width": ""
      }
     },
     "a8a4f2a27e2f486cb37565520e4dcf40": {
      "model_module": "@jupyter-widgets/controls",
      "model_module_version": "1.5.0",
      "model_name": "ToggleButtonModel",
      "state": {
       "description": "Click me",
       "layout": "IPY_MODEL_ebca29a59c354c11ace8696506a2053f",
       "style": "IPY_MODEL_dbe6f94a5301457faf22b679c122c4bb"
      }
     },
     "a90ab8df7fa54a5fa340ed979ba0355e": {
      "model_module": "@jupyter-widgets/controls",
      "model_module_version": "1.5.0",
      "model_name": "ProgressStyleModel",
      "state": {
       "description_width": ""
      }
     },
     "ab7218844c194d30bf9a3723da096d17": {
      "model_module": "@jupyter-widgets/base",
      "model_module_version": "1.2.0",
      "model_name": "LayoutModel",
      "state": {}
     },
     "ad2ef8e542864a4fbdc7af7f5c8ddc81": {
      "model_module": "@jupyter-widgets/controls",
      "model_module_version": "1.5.0",
      "model_name": "DescriptionStyleModel",
      "state": {
       "description_width": ""
      }
     },
     "b06249dbd84d4401bd7add8f850e5a53": {
      "model_module": "@jupyter-widgets/base",
      "model_module_version": "1.2.0",
      "model_name": "LayoutModel",
      "state": {}
     },
     "b126632f96e64792b6557d5767e2d157": {
      "model_module": "@jupyter-widgets/controls",
      "model_module_version": "1.5.0",
      "model_name": "DescriptionStyleModel",
      "state": {
       "description_width": ""
      }
     },
     "b227424d7c6e4145b180d86c5943de87": {
      "model_module": "@jupyter-widgets/controls",
      "model_module_version": "1.5.0",
      "model_name": "DescriptionStyleModel",
      "state": {
       "description_width": ""
      }
     },
     "b2a477302a8b4e64bd3267a15e8adc49": {
      "model_module": "@jupyter-widgets/controls",
      "model_module_version": "1.5.0",
      "model_name": "DescriptionStyleModel",
      "state": {
       "description_width": ""
      }
     },
     "b31786b85d1445d5885e3196f45c79aa": {
      "model_module": "@jupyter-widgets/base",
      "model_module_version": "1.2.0",
      "model_name": "LayoutModel",
      "state": {}
     },
     "b440449d00934fdb873b1929d4d076a0": {
      "model_module": "@jupyter-widgets/controls",
      "model_module_version": "1.5.0",
      "model_name": "DescriptionStyleModel",
      "state": {
       "description_width": ""
      }
     },
     "b468aaa32a1540d28cacae8f555c0a36": {
      "model_module": "@jupyter-widgets/controls",
      "model_module_version": "1.5.0",
      "model_name": "IntProgressModel",
      "state": {
       "layout": "IPY_MODEL_d7dd92b3a1614b43b1b81873c4b0b523",
       "max": 0,
       "min": -5,
       "style": "IPY_MODEL_a90ab8df7fa54a5fa340ed979ba0355e",
       "value": -3
      }
     },
     "b4a6b8c81529420d8df4953b013b3dc0": {
      "model_module": "@jupyter-widgets/controls",
      "model_module_version": "1.5.0",
      "model_name": "SliderStyleModel",
      "state": {
       "description_width": ""
      }
     },
     "b6d6c71bf35946719bc0fd06a1c5b6e0": {
      "model_module": "@jupyter-widgets/controls",
      "model_module_version": "1.5.0",
      "model_name": "IntProgressModel",
      "state": {
       "layout": "IPY_MODEL_0a22ac97342949cfb1c5cb8973e45d1f",
       "max": 0,
       "min": -5,
       "style": "IPY_MODEL_7784fc612b1c41a79caece9613129d71",
       "value": -3
      }
     },
     "c18669ccc70b4e0b88c6925d6724bad2": {
      "model_module": "@jupyter-widgets/controls",
      "model_module_version": "1.5.0",
      "model_name": "LabelModel",
      "state": {
       "layout": "IPY_MODEL_3de9590e3c20485f80f8a69fdede23c9",
       "style": "IPY_MODEL_48f62c6343ff4f7bb034dd4f16debff7"
      }
     },
     "c1fab1a1ff294341a159aff7a48c539b": {
      "model_module": "@jupyter-widgets/controls",
      "model_module_version": "1.5.0",
      "model_name": "ToggleButtonsModel",
      "state": {
       "_options_labels": [
        "Slow",
        "Regular",
        "Fast"
       ],
       "button_style": "",
       "icons": [],
       "index": 0,
       "layout": "IPY_MODEL_4cd0bc0af2614d52baf521bde570ce6a",
       "style": "IPY_MODEL_e4b2ced79e3e4ec0862dbf2443195688",
       "tooltips": []
      }
     },
     "c3ea394f8bed4e709f78e8eb91fb890a": {
      "model_module": "@jupyter-widgets/controls",
      "model_module_version": "1.5.0",
      "model_name": "DescriptionStyleModel",
      "state": {
       "description_width": ""
      }
     },
     "c4a74e54095240efac18967eec467064": {
      "model_module": "@jupyter-widgets/controls",
      "model_module_version": "1.5.0",
      "model_name": "DescriptionStyleModel",
      "state": {
       "description_width": ""
      }
     },
     "c5c6195eea794f85970b89f3cd01476c": {
      "model_module": "@jupyter-widgets/base",
      "model_module_version": "1.2.0",
      "model_name": "LayoutModel",
      "state": {}
     },
     "c68ef983c01d4e65b681b2bb22bba44d": {
      "model_module": "@jupyter-widgets/controls",
      "model_module_version": "1.5.0",
      "model_name": "DescriptionStyleModel",
      "state": {
       "description_width": ""
      }
     },
     "c88763a4075f40a3ab7f01ce8f5f6e5e": {
      "model_module": "@jupyter-widgets/controls",
      "model_module_version": "1.5.0",
      "model_name": "SelectionRangeSliderModel",
      "state": {
       "_model_name": "SelectionRangeSliderModel",
       "_options_labels": [
        "Jan",
        "Feb",
        "Mar",
        "Apr"
       ],
       "_view_name": "SelectionRangeSliderView",
       "description": "Months",
       "index": [
        1,
        2
       ],
       "layout": "IPY_MODEL_8fa67d07a8f74a69a6f0de882c07c00e",
       "style": "IPY_MODEL_b2a477302a8b4e64bd3267a15e8adc49"
      }
     },
     "c9f5e2cff7154f6cb047b73139e164a9": {
      "model_module": "@jupyter-widgets/controls",
      "model_module_version": "1.5.0",
      "model_name": "FloatSliderModel",
      "state": {
       "layout": "IPY_MODEL_09251fbd4ccb45edb6d2cfa1eda6f2a7",
       "max": 0.3,
       "step": 0.1,
       "style": "IPY_MODEL_5d848362af484015936c53cab71015c8",
       "value": 0.2
      }
     },
     "cb040be4439a48a6823d7b1f08f22bf7": {
      "model_module": "@jupyter-widgets/base",
      "model_module_version": "1.2.0",
      "model_name": "LayoutModel",
      "state": {}
     },
     "cd473bd48fa04a09b6a3bc947181d2b3": {
      "model_module": "@jupyter-widgets/base",
      "model_module_version": "1.2.0",
      "model_name": "LayoutModel",
      "state": {}
     },
     "d4bb0d466ed3437887d81ac80fe9daeb": {
      "model_module": "@jupyter-widgets/base",
      "model_module_version": "1.2.0",
      "model_name": "LayoutModel",
      "state": {}
     },
     "d4f9a66659e44d92aff6cff29604ee06": {
      "model_module": "@jupyter-widgets/controls",
      "model_module_version": "1.5.0",
      "model_name": "IntRangeSliderModel",
      "state": {
       "_model_name": "IntRangeSliderModel",
       "_view_name": "IntRangeSliderView",
       "layout": "IPY_MODEL_95367265e93f407681b6b5147d319ac2",
       "max": 10,
       "style": "IPY_MODEL_e54e413f363c45f6afa88e51ce21616d",
       "value": [
        4,
        7
       ]
      }
     },
     "d6d147a249214eefbfc57f1213679807": {
      "model_module": "@jupyter-widgets/base",
      "model_module_version": "1.2.0",
      "model_name": "LayoutModel",
      "state": {}
     },
     "d71582fa18bd426f833d62ccd117c4e4": {
      "model_module": "@jupyter-widgets/controls",
      "model_module_version": "1.5.0",
      "model_name": "FloatProgressModel",
      "state": {
       "layout": "IPY_MODEL_944afefcb41c40b88b95123ece42e384",
       "max": 10,
       "style": "IPY_MODEL_6524dc9a81134ca69ddfbdf243dae1be",
       "value": 1
      }
     },
     "d7cbeb6aec784a1582390a8dfb36ae72": {
      "model_module": "@jupyter-widgets/controls",
      "model_module_version": "1.5.0",
      "model_name": "DescriptionStyleModel",
      "state": {
       "description_width": ""
      }
     },
     "d7dd92b3a1614b43b1b81873c4b0b523": {
      "model_module": "@jupyter-widgets/base",
      "model_module_version": "1.2.0",
      "model_name": "LayoutModel",
      "state": {}
     },
     "da69cd5766fe4922a995e5ae30f21f71": {
      "model_module": "@jupyter-widgets/base",
      "model_module_version": "1.2.0",
      "model_name": "LayoutModel",
      "state": {}
     },
     "dbe6f94a5301457faf22b679c122c4bb": {
      "model_module": "@jupyter-widgets/controls",
      "model_module_version": "1.5.0",
      "model_name": "DescriptionStyleModel",
      "state": {
       "description_width": ""
      }
     },
     "dc09b4db56f2437693ac62069cd622ec": {
      "model_module": "@jupyter-widgets/controls",
      "model_module_version": "1.5.0",
      "model_name": "DescriptionStyleModel",
      "state": {
       "description_width": ""
      }
     },
     "de388719abcb48f8bed366dee62dc437": {
      "model_module": "@jupyter-widgets/controls",
      "model_module_version": "1.5.0",
      "model_name": "IntProgressModel",
      "state": {
       "layout": "IPY_MODEL_da69cd5766fe4922a995e5ae30f21f71",
       "max": 0,
       "min": -10,
       "style": "IPY_MODEL_79571c38b07949dbbab8031723faaf49"
      }
     },
     "e3fa4f12dbda4185a766b2420db6aa1c": {
      "model_module": "@jupyter-widgets/controls",
      "model_module_version": "1.5.0",
      "model_name": "SliderStyleModel",
      "state": {
       "description_width": ""
      }
     },
     "e4b2ced79e3e4ec0862dbf2443195688": {
      "model_module": "@jupyter-widgets/controls",
      "model_module_version": "1.5.0",
      "model_name": "ToggleButtonsStyleModel",
      "state": {
       "button_width": "",
       "description_width": ""
      }
     },
     "e54e413f363c45f6afa88e51ce21616d": {
      "model_module": "@jupyter-widgets/controls",
      "model_module_version": "1.5.0",
      "model_name": "SliderStyleModel",
      "state": {
       "description_width": ""
      }
     },
     "e762c7b1f64b4da2aaf5c4599fe2bae6": {
      "model_module": "@jupyter-widgets/controls",
      "model_module_version": "1.5.0",
      "model_name": "SliderStyleModel",
      "state": {
       "description_width": ""
      }
     },
     "e8eb6d53f8fd4be7bd51203b7d81981e": {
      "model_module": "@jupyter-widgets/controls",
      "model_module_version": "1.5.0",
      "model_name": "SliderStyleModel",
      "state": {
       "description_width": ""
      }
     },
     "eabde2e1d88246b9ad8460a96f2b08c3": {
      "model_module": "@jupyter-widgets/controls",
      "model_module_version": "1.5.0",
      "model_name": "RadioButtonsModel",
      "state": {
       "_options_labels": [
        "Linux",
        "Windows",
        "OSX"
       ],
       "disabled": true,
       "index": 2,
       "layout": "IPY_MODEL_65a52cf570294f8fbab5e866733919a0",
       "style": "IPY_MODEL_b227424d7c6e4145b180d86c5943de87"
      }
     },
     "eb2526cf097447578055b2e8db8067e4": {
      "model_module": "@jupyter-widgets/base",
      "model_module_version": "1.2.0",
      "model_name": "LayoutModel",
      "state": {}
     },
     "ebca29a59c354c11ace8696506a2053f": {
      "model_module": "@jupyter-widgets/base",
      "model_module_version": "1.2.0",
      "model_name": "LayoutModel",
      "state": {}
     },
     "f096ed47bd4c47bfa0edbe0f8955508b": {
      "model_module": "@jupyter-widgets/controls",
      "model_module_version": "1.5.0",
      "model_name": "LabelModel",
      "state": {
       "layout": "IPY_MODEL_00bac6556edf4a3487e892c3acf1ab16",
       "style": "IPY_MODEL_1f1cd54d3eb1434c8965fd7d75365242"
      }
     },
     "f1795841de544fc4bc7b8c051af929d5": {
      "model_module": "@jupyter-widgets/controls",
      "model_module_version": "1.5.0",
      "model_name": "BoundedFloatTextModel",
      "state": {
       "layout": "IPY_MODEL_0af0fa3c1b3a48e8985e9c67f11838d9",
       "max": 1.5,
       "min": 1,
       "style": "IPY_MODEL_5dc6093ffcf944b3854b1bd6b3039678",
       "value": 1
      }
     },
     "f9ffe314ec604c45a2416801a240e534": {
      "model_module": "@jupyter-widgets/controls",
      "model_module_version": "1.5.0",
      "model_name": "LabelModel",
      "state": {
       "layout": "IPY_MODEL_75e0275a789d4b52948b91ab052b94f5",
       "style": "IPY_MODEL_115aeb525d184d958ed33253a292cd07"
      }
     },
     "fad898abc364472faf3a296331050246": {
      "model_module": "@jupyter-widgets/base",
      "model_module_version": "1.2.0",
      "model_name": "LayoutModel",
      "state": {}
     },
     "fcf95a73cf264d74bab03830e12ff115": {
      "model_module": "@jupyter-widgets/base",
      "model_module_version": "1.2.0",
      "model_name": "LayoutModel",
      "state": {}
     }
    },
    "version_major": 2,
    "version_minor": 0
   }
  }
 },
 "nbformat": 4,
 "nbformat_minor": 4
}
