{
 "cells": [
  {
   "cell_type": "markdown",
   "id": "121fd33a-d5d2-4755-be1b-2a678fea2478",
   "metadata": {},
   "source": [
    "# illusionist: Tables\n",
    "\n",
    "We can output pandas tables either by printing them or using the HTML render and an `Output` widget.\n",
    "\n",
    "With `illusionist` we make this static so it runs without a kernel."
   ]
  },
  {
   "cell_type": "code",
   "execution_count": null,
   "id": "f6d46bd8-da00-497a-8cfe-a3900728cb93",
   "metadata": {},
   "outputs": [],
   "source": [
    "import pandas as pd\n",
    "import ipywidgets as w"
   ]
  },
  {
   "cell_type": "code",
   "execution_count": null,
   "id": "6de9fd59-c884-4725-945d-02be4e9db9c7",
   "metadata": {},
   "outputs": [],
   "source": [
    "df = pd.DataFrame(columns=[\"input\", \"operation\", \"squared\", \"as_str\"])"
   ]
  },
  {
   "cell_type": "code",
   "execution_count": null,
   "id": "eb284a33-2a15-4ed1-ad7a-8ac12777c61e",
   "metadata": {},
   "outputs": [],
   "source": [
    "s = w.IntSlider(min=1, max=3)\n",
    "\n",
    "def update(value):\n",
    "    df.input = range(1, 10)\n",
    "    df.operation = df.input * value\n",
    "    df.squared = df.operation ** 2\n",
    "    df.as_str = df.operation.map(lambda x: str(x))\n",
    "    print(df)\n",
    "\n",
    "out = w.interactive_output(update, {'value': s})\n",
    "\n",
    "display(s, out)"
   ]
  },
  {
   "cell_type": "code",
   "execution_count": null,
   "id": "db1c07ea-af89-46ad-ba09-95d75512da55",
   "metadata": {},
   "outputs": [],
   "source": [
    "s2 = w.IntSlider(min=1, max=3)\n",
    "\n",
    "def update(value):\n",
    "    df.input = range(1, 10)\n",
    "    df.operation = df.input * value\n",
    "    df.squared = df.operation ** 2\n",
    "    df.as_str = df.operation.map(lambda x: \"\" if x == 0 else str(x))\n",
    "    display(df)\n",
    "\n",
    "out2 = w.interactive_output(update, {'value': s2})\n",
    "\n",
    "display(s2, out2)"
   ]
  },
  {
   "cell_type": "code",
   "execution_count": null,
   "id": "6cfafba9-d852-4940-bbff-ed77f7c84c2f",
   "metadata": {},
   "outputs": [],
   "source": []
  }
 ],
 "metadata": {
  "kernelspec": {
   "display_name": "Python 3 (ipykernel)",
   "language": "python",
   "name": "python3"
  },
  "language_info": {
   "codemirror_mode": {
    "name": "ipython",
    "version": 3
   },
   "file_extension": ".py",
   "mimetype": "text/x-python",
   "name": "python",
   "nbconvert_exporter": "python",
   "pygments_lexer": "ipython3",
   "version": "3.9.4"
  }
 },
 "nbformat": 4,
 "nbformat_minor": 5
}
