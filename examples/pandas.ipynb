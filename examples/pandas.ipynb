{
 "cells": [
  {
   "cell_type": "code",
   "execution_count": 1,
   "id": "f6d46bd8-da00-497a-8cfe-a3900728cb93",
   "metadata": {},
   "outputs": [],
   "source": [
    "import pandas as pd\n",
    "import ipywidgets as w"
   ]
  },
  {
   "cell_type": "code",
   "execution_count": 2,
   "id": "c714859d-f50b-4178-a9a9-0a11e04d65db",
   "metadata": {},
   "outputs": [],
   "source": [
    "slider = w.IntSlider(description=\"Multipler:\", min=10, max=100)"
   ]
  },
  {
   "cell_type": "code",
   "execution_count": 3,
   "id": "6de9fd59-c884-4725-945d-02be4e9db9c7",
   "metadata": {},
   "outputs": [],
   "source": [
    "df = pd.DataFrame(columns=[\"input\", \"operation\", \"squared\", \"as_str\"])"
   ]
  },
  {
   "cell_type": "code",
   "execution_count": 4,
   "id": "eb284a33-2a15-4ed1-ad7a-8ac12777c61e",
   "metadata": {},
   "outputs": [
    {
     "data": {
      "application/vnd.jupyter.widget-view+json": {
       "model_id": "8fbc287bc6b24d889111ce12f2432f7d",
       "version_major": 2,
       "version_minor": 0
      },
      "text/plain": [
       "IntSlider(value=1, max=3, min=1)"
      ]
     },
     "metadata": {},
     "output_type": "display_data"
    },
    {
     "data": {
      "application/vnd.jupyter.widget-view+json": {
       "model_id": "3b5a22976b0d468a89cb0744dd489468",
       "version_major": 2,
       "version_minor": 0
      },
      "text/plain": [
       "Output()"
      ]
     },
     "metadata": {},
     "output_type": "display_data"
    }
   ],
   "source": [
    "s = w.IntSlider(min=1, max=3)\n",
    "\n",
    "def update(value):\n",
    "    df.input = range(1, 10)\n",
    "    df.operation = df.input * value\n",
    "    df.squared = df.operation ** 2\n",
    "    df.as_str = df.operation.map(lambda x: str(x))\n",
    "    print(df)\n",
    "\n",
    "out = w.interactive_output(update, {'value': s})\n",
    "\n",
    "display(s, out)"
   ]
  },
  {
   "cell_type": "code",
   "execution_count": 5,
   "id": "db1c07ea-af89-46ad-ba09-95d75512da55",
   "metadata": {},
   "outputs": [
    {
     "data": {
      "application/vnd.jupyter.widget-view+json": {
       "model_id": "de390fc912884992abc5ab532fec6231",
       "version_major": 2,
       "version_minor": 0
      },
      "text/plain": [
       "IntSlider(value=1, max=3, min=1)"
      ]
     },
     "metadata": {},
     "output_type": "display_data"
    },
    {
     "data": {
      "application/vnd.jupyter.widget-view+json": {
       "model_id": "7115b0605fd749c2b4454866962f1bea",
       "version_major": 2,
       "version_minor": 0
      },
      "text/plain": [
       "Output()"
      ]
     },
     "metadata": {},
     "output_type": "display_data"
    }
   ],
   "source": [
    "s2 = w.IntSlider(min=1, max=3)\n",
    "\n",
    "def update(value):\n",
    "    df.input = range(1, 10)\n",
    "    df.operation = df.input * value\n",
    "    df.squared = df.operation ** 2\n",
    "    df.as_str = df.operation.map(lambda x: \"\" if x == 0 else str(x))\n",
    "    display(df)\n",
    "\n",
    "out2 = w.interactive_output(update, {'value': s2})\n",
    "\n",
    "display(s2, out2)"
   ]
  },
  {
   "cell_type": "code",
   "execution_count": null,
   "id": "6cfafba9-d852-4940-bbff-ed77f7c84c2f",
   "metadata": {},
   "outputs": [],
   "source": []
  }
 ],
 "metadata": {
  "kernelspec": {
   "display_name": "Python 3 (ipykernel)",
   "language": "python",
   "name": "python3"
  },
  "language_info": {
   "codemirror_mode": {
    "name": "ipython",
    "version": 3
   },
   "file_extension": ".py",
   "mimetype": "text/x-python",
   "name": "python",
   "nbconvert_exporter": "python",
   "pygments_lexer": "ipython3",
   "version": "3.9.4"
  }
 },
 "nbformat": 4,
 "nbformat_minor": 5
}
