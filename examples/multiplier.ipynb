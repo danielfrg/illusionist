{
 "cells": [
  {
   "cell_type": "markdown",
   "metadata": {},
   "source": [
    "# illusionist: Simple multiplication operation"
   ]
  },
  {
   "cell_type": "code",
   "execution_count": 1,
   "metadata": {
    "execution": {
     "iopub.execute_input": "2020-08-30T17:50:42.195961Z",
     "iopub.status.busy": "2020-08-30T17:50:42.195302Z",
     "iopub.status.idle": "2020-08-30T17:50:42.222267Z",
     "shell.execute_reply": "2020-08-30T17:50:42.222695Z"
    }
   },
   "outputs": [],
   "source": [
    "import ipywidgets as widgets"
   ]
  },
  {
   "cell_type": "code",
   "execution_count": 2,
   "metadata": {
    "execution": {
     "iopub.execute_input": "2020-08-30T17:50:42.231632Z",
     "iopub.status.busy": "2020-08-30T17:50:42.231007Z",
     "iopub.status.idle": "2020-08-30T17:50:42.235637Z",
     "shell.execute_reply": "2020-08-30T17:50:42.235126Z"
    }
   },
   "outputs": [
    {
     "data": {
      "application/vnd.jupyter.widget-view+json": {
       "model_id": "d679063beac74299a5ee4668f48d31a4",
       "version_major": 2,
       "version_minor": 0
      },
      "text/plain": [
       "IntSlider(value=5, description='Number', max=10)"
      ]
     },
     "metadata": {},
     "output_type": "display_data"
    }
   ],
   "source": [
    "slider = widgets.IntSlider(description=\"Number\", max=10, value=5)\n",
    "slider"
   ]
  },
  {
   "cell_type": "code",
   "execution_count": 3,
   "metadata": {
    "execution": {
     "iopub.execute_input": "2020-08-30T17:50:42.243268Z",
     "iopub.status.busy": "2020-08-30T17:50:42.241647Z",
     "iopub.status.idle": "2020-08-30T17:50:42.246816Z",
     "shell.execute_reply": "2020-08-30T17:50:42.247223Z"
    }
   },
   "outputs": [
    {
     "data": {
      "application/vnd.jupyter.widget-view+json": {
       "model_id": "eb0baf6b6d81407fafd6e7e580e6ec0a",
       "version_major": 2,
       "version_minor": 0
      },
      "text/plain": [
       "BoundedIntText(value=2, description='Multiplier', max=5)"
      ]
     },
     "metadata": {},
     "output_type": "display_data"
    }
   ],
   "source": [
    "bounded_int = widgets.BoundedIntText(description=\"Multiplier\", value=2, min=0, max=5)\n",
    "bounded_int"
   ]
  },
  {
   "cell_type": "code",
   "execution_count": 4,
   "metadata": {
    "execution": {
     "iopub.execute_input": "2020-08-30T17:50:42.254763Z",
     "iopub.status.busy": "2020-08-30T17:50:42.254091Z",
     "iopub.status.idle": "2020-08-30T17:50:42.258438Z",
     "shell.execute_reply": "2020-08-30T17:50:42.257937Z"
    }
   },
   "outputs": [
    {
     "data": {
      "application/vnd.jupyter.widget-view+json": {
       "model_id": "22f82a44900e44ec9537814705d41dfc",
       "version_major": 2,
       "version_minor": 0
      },
      "text/plain": [
       "Label(value='')"
      ]
     },
     "metadata": {},
     "output_type": "display_data"
    }
   ],
   "source": [
    "multiplication = widgets.Label()\n",
    "multiplication"
   ]
  },
  {
   "cell_type": "code",
   "execution_count": 5,
   "metadata": {
    "execution": {
     "iopub.execute_input": "2020-08-30T17:50:42.262379Z",
     "iopub.status.busy": "2020-08-30T17:50:42.261816Z",
     "iopub.status.idle": "2020-08-30T17:50:42.263748Z",
     "shell.execute_reply": "2020-08-30T17:50:42.264143Z"
    }
   },
   "outputs": [],
   "source": [
    "def update_lbl(args):\n",
    "    multiplication.value = str(slider.value * bounded_int.value)\n",
    "\n",
    "update_lbl(None)\n",
    "    \n",
    "slider.observe(update_lbl, 'value')\n",
    "bounded_int.observe(update_lbl, 'value')"
   ]
  },
  {
   "cell_type": "code",
   "execution_count": null,
   "metadata": {},
   "outputs": [],
   "source": []
  },
  {
   "cell_type": "code",
   "execution_count": null,
   "metadata": {},
   "outputs": [],
   "source": []
  }
 ],
 "metadata": {
  "kernelspec": {
   "display_name": "Python 3",
   "language": "python",
   "name": "python3"
  },
  "language_info": {
   "codemirror_mode": {
    "name": "ipython",
    "version": 3
   },
   "file_extension": ".py",
   "mimetype": "text/x-python",
   "name": "python",
   "nbconvert_exporter": "python",
   "pygments_lexer": "ipython3",
   "version": "3.7.8"
  },
  "widgets": {
   "application/vnd.illusionist.widget-onchange+json": {
    "all_widgets": [
     "d679063beac74299a5ee4668f48d31a4",
     "eb0baf6b6d81407fafd6e7e580e6ec0a",
     "22f82a44900e44ec9537814705d41dfc"
    ],
    "control_widgets": [
     "d679063beac74299a5ee4668f48d31a4",
     "eb0baf6b6d81407fafd6e7e580e6ec0a"
    ],
    "onchange": {
     "22f82a44900e44ec9537814705d41dfc": {
      "affected_by": [
       "eb0baf6b6d81407fafd6e7e580e6ec0a",
       "d679063beac74299a5ee4668f48d31a4"
      ],
      "values": {
       "0,0": "0",
       "0,1": "0",
       "0,10": "0",
       "0,2": "0",
       "0,3": "0",
       "0,4": "0",
       "0,5": "0",
       "0,6": "0",
       "0,7": "0",
       "0,8": "0",
       "0,9": "0",
       "1,0": "0",
       "1,1": "1",
       "1,10": "10",
       "1,2": "2",
       "1,3": "3",
       "1,4": "4",
       "1,5": "5",
       "1,6": "6",
       "1,7": "7",
       "1,8": "8",
       "1,9": "9",
       "2,0": "0",
       "2,1": "2",
       "2,10": "20",
       "2,2": "4",
       "2,3": "6",
       "2,4": "8",
       "2,5": "10",
       "2,6": "12",
       "2,7": "14",
       "2,8": "16",
       "2,9": "18",
       "3,0": "0",
       "3,1": "3",
       "3,10": "30",
       "3,2": "6",
       "3,3": "9",
       "3,4": "12",
       "3,5": "15",
       "3,6": "18",
       "3,7": "21",
       "3,8": "24",
       "3,9": "27",
       "4,0": "0",
       "4,1": "4",
       "4,10": "40",
       "4,2": "8",
       "4,3": "12",
       "4,4": "16",
       "4,5": "20",
       "4,6": "24",
       "4,7": "28",
       "4,8": "32",
       "4,9": "36",
       "5,0": "0",
       "5,1": "5",
       "5,10": "50",
       "5,2": "10",
       "5,3": "15",
       "5,4": "20",
       "5,5": "25",
       "5,6": "30",
       "5,7": "35",
       "5,8": "40",
       "5,9": "45"
      }
     }
    },
    "version_major": 1,
    "version_minor": 0
   },
   "application/vnd.jupyter.widget-state+json": {
    "state": {
     "22f82a44900e44ec9537814705d41dfc": {
      "model_module": "@jupyter-widgets/controls",
      "model_module_version": "1.5.0",
      "model_name": "LabelModel",
      "state": {
       "_dom_classes": [],
       "_model_module": "@jupyter-widgets/controls",
       "_model_module_version": "1.5.0",
       "_model_name": "LabelModel",
       "_view_count": null,
       "_view_module": "@jupyter-widgets/controls",
       "_view_module_version": "1.5.0",
       "_view_name": "LabelView",
       "description": "",
       "description_tooltip": null,
       "layout": "IPY_MODEL_b1f75adf7d9b4e9d9eefbaeb8959853c",
       "placeholder": "​",
       "style": "IPY_MODEL_d9924619abdf4bccb4e69f9bbab061a3",
       "value": "10"
      }
     },
     "2643b79eebb94a898f37114d78020d56": {
      "model_module": "@jupyter-widgets/controls",
      "model_module_version": "1.5.0",
      "model_name": "SliderStyleModel",
      "state": {
       "_model_module": "@jupyter-widgets/controls",
       "_model_module_version": "1.5.0",
       "_model_name": "SliderStyleModel",
       "_view_count": null,
       "_view_module": "@jupyter-widgets/base",
       "_view_module_version": "1.2.0",
       "_view_name": "StyleView",
       "description_width": "",
       "handle_color": null
      }
     },
     "749907c1566b4ec1ab4793f6f602902a": {
      "model_module": "@jupyter-widgets/controls",
      "model_module_version": "1.5.0",
      "model_name": "DescriptionStyleModel",
      "state": {
       "_model_module": "@jupyter-widgets/controls",
       "_model_module_version": "1.5.0",
       "_model_name": "DescriptionStyleModel",
       "_view_count": null,
       "_view_module": "@jupyter-widgets/base",
       "_view_module_version": "1.2.0",
       "_view_name": "StyleView",
       "description_width": ""
      }
     },
     "8cef3c24538340a79011242b7d0fd5bc": {
      "model_module": "@jupyter-widgets/base",
      "model_module_version": "1.2.0",
      "model_name": "LayoutModel",
      "state": {
       "_model_module": "@jupyter-widgets/base",
       "_model_module_version": "1.2.0",
       "_model_name": "LayoutModel",
       "_view_count": null,
       "_view_module": "@jupyter-widgets/base",
       "_view_module_version": "1.2.0",
       "_view_name": "LayoutView",
       "align_content": null,
       "align_items": null,
       "align_self": null,
       "border": null,
       "bottom": null,
       "display": null,
       "flex": null,
       "flex_flow": null,
       "grid_area": null,
       "grid_auto_columns": null,
       "grid_auto_flow": null,
       "grid_auto_rows": null,
       "grid_column": null,
       "grid_gap": null,
       "grid_row": null,
       "grid_template_areas": null,
       "grid_template_columns": null,
       "grid_template_rows": null,
       "height": null,
       "justify_content": null,
       "justify_items": null,
       "left": null,
       "margin": null,
       "max_height": null,
       "max_width": null,
       "min_height": null,
       "min_width": null,
       "object_fit": null,
       "object_position": null,
       "order": null,
       "overflow": null,
       "overflow_x": null,
       "overflow_y": null,
       "padding": null,
       "right": null,
       "top": null,
       "visibility": null,
       "width": null
      }
     },
     "b1f75adf7d9b4e9d9eefbaeb8959853c": {
      "model_module": "@jupyter-widgets/base",
      "model_module_version": "1.2.0",
      "model_name": "LayoutModel",
      "state": {
       "_model_module": "@jupyter-widgets/base",
       "_model_module_version": "1.2.0",
       "_model_name": "LayoutModel",
       "_view_count": null,
       "_view_module": "@jupyter-widgets/base",
       "_view_module_version": "1.2.0",
       "_view_name": "LayoutView",
       "align_content": null,
       "align_items": null,
       "align_self": null,
       "border": null,
       "bottom": null,
       "display": null,
       "flex": null,
       "flex_flow": null,
       "grid_area": null,
       "grid_auto_columns": null,
       "grid_auto_flow": null,
       "grid_auto_rows": null,
       "grid_column": null,
       "grid_gap": null,
       "grid_row": null,
       "grid_template_areas": null,
       "grid_template_columns": null,
       "grid_template_rows": null,
       "height": null,
       "justify_content": null,
       "justify_items": null,
       "left": null,
       "margin": null,
       "max_height": null,
       "max_width": null,
       "min_height": null,
       "min_width": null,
       "object_fit": null,
       "object_position": null,
       "order": null,
       "overflow": null,
       "overflow_x": null,
       "overflow_y": null,
       "padding": null,
       "right": null,
       "top": null,
       "visibility": null,
       "width": null
      }
     },
     "d679063beac74299a5ee4668f48d31a4": {
      "model_module": "@jupyter-widgets/controls",
      "model_module_version": "1.5.0",
      "model_name": "IntSliderModel",
      "state": {
       "_dom_classes": [],
       "_model_module": "@jupyter-widgets/controls",
       "_model_module_version": "1.5.0",
       "_model_name": "IntSliderModel",
       "_view_count": null,
       "_view_module": "@jupyter-widgets/controls",
       "_view_module_version": "1.5.0",
       "_view_name": "IntSliderView",
       "continuous_update": true,
       "description": "Number",
       "description_tooltip": null,
       "disabled": false,
       "layout": "IPY_MODEL_8cef3c24538340a79011242b7d0fd5bc",
       "max": 10,
       "min": 0,
       "orientation": "horizontal",
       "readout": true,
       "readout_format": "d",
       "step": 1,
       "style": "IPY_MODEL_2643b79eebb94a898f37114d78020d56",
       "value": 5
      }
     },
     "d9924619abdf4bccb4e69f9bbab061a3": {
      "model_module": "@jupyter-widgets/controls",
      "model_module_version": "1.5.0",
      "model_name": "DescriptionStyleModel",
      "state": {
       "_model_module": "@jupyter-widgets/controls",
       "_model_module_version": "1.5.0",
       "_model_name": "DescriptionStyleModel",
       "_view_count": null,
       "_view_module": "@jupyter-widgets/base",
       "_view_module_version": "1.2.0",
       "_view_name": "StyleView",
       "description_width": ""
      }
     },
     "eb0baf6b6d81407fafd6e7e580e6ec0a": {
      "model_module": "@jupyter-widgets/controls",
      "model_module_version": "1.5.0",
      "model_name": "BoundedIntTextModel",
      "state": {
       "_dom_classes": [],
       "_model_module": "@jupyter-widgets/controls",
       "_model_module_version": "1.5.0",
       "_model_name": "BoundedIntTextModel",
       "_view_count": null,
       "_view_module": "@jupyter-widgets/controls",
       "_view_module_version": "1.5.0",
       "_view_name": "IntTextView",
       "continuous_update": false,
       "description": "Multiplier",
       "description_tooltip": null,
       "disabled": false,
       "layout": "IPY_MODEL_f929a2d39bac45a1b58600ef222faf77",
       "max": 5,
       "min": 0,
       "step": 1,
       "style": "IPY_MODEL_749907c1566b4ec1ab4793f6f602902a",
       "value": 2
      }
     },
     "f929a2d39bac45a1b58600ef222faf77": {
      "model_module": "@jupyter-widgets/base",
      "model_module_version": "1.2.0",
      "model_name": "LayoutModel",
      "state": {
       "_model_module": "@jupyter-widgets/base",
       "_model_module_version": "1.2.0",
       "_model_name": "LayoutModel",
       "_view_count": null,
       "_view_module": "@jupyter-widgets/base",
       "_view_module_version": "1.2.0",
       "_view_name": "LayoutView",
       "align_content": null,
       "align_items": null,
       "align_self": null,
       "border": null,
       "bottom": null,
       "display": null,
       "flex": null,
       "flex_flow": null,
       "grid_area": null,
       "grid_auto_columns": null,
       "grid_auto_flow": null,
       "grid_auto_rows": null,
       "grid_column": null,
       "grid_gap": null,
       "grid_row": null,
       "grid_template_areas": null,
       "grid_template_columns": null,
       "grid_template_rows": null,
       "height": null,
       "justify_content": null,
       "justify_items": null,
       "left": null,
       "margin": null,
       "max_height": null,
       "max_width": null,
       "min_height": null,
       "min_width": null,
       "object_fit": null,
       "object_position": null,
       "order": null,
       "overflow": null,
       "overflow_x": null,
       "overflow_y": null,
       "padding": null,
       "right": null,
       "top": null,
       "visibility": null,
       "width": null
      }
     }
    },
    "version_major": 2,
    "version_minor": 0
   }
  }
 },
 "nbformat": 4,
 "nbformat_minor": 4
}
