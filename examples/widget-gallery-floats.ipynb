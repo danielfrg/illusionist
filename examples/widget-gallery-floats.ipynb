{
 "cells": [
  {
   "cell_type": "markdown",
   "metadata": {},
   "source": [
    "# illusionist: Float Widget Gallery"
   ]
  },
  {
   "cell_type": "markdown",
   "metadata": {},
   "source": [
    "## Numeric Widgets"
   ]
  },
  {
   "cell_type": "code",
   "execution_count": null,
   "metadata": {},
   "outputs": [],
   "source": [
    "import ipywidgets as widgets"
   ]
  },
  {
   "cell_type": "markdown",
   "metadata": {},
   "source": [
    "### FloatSlider"
   ]
  },
  {
   "cell_type": "code",
   "execution_count": null,
   "metadata": {},
   "outputs": [],
   "source": [
    "float_slider = widgets.FloatSlider(value=0.1, min=0, max=0.3, step=0.1)\n",
    "float_slider"
   ]
  },
  {
   "cell_type": "code",
   "execution_count": null,
   "metadata": {},
   "outputs": [],
   "source": [
    "float_slider_value = widgets.Label()\n",
    "float_slider_value"
   ]
  },
  {
   "cell_type": "code",
   "execution_count": null,
   "metadata": {},
   "outputs": [],
   "source": [
    "def float_slider_update(args):\n",
    "    float_slider_value.value = str(float_slider.value)\n",
    "float_slider_update(None)\n",
    "float_slider.observe(float_slider_update, \"value\")"
   ]
  },
  {
   "cell_type": "code",
   "execution_count": null,
   "metadata": {},
   "outputs": [],
   "source": [
    "multiplier = int((float_slider.max - float_slider.min) * 10 / float_slider.step)\n",
    "min_ = int(float_slider.min * multiplier)\n",
    "max_ = int(float_slider.max * multiplier)\n",
    "step_ = int(float_slider.step * multiplier)\n",
    "min_, max_, step_"
   ]
  },
  {
   "cell_type": "code",
   "execution_count": null,
   "metadata": {},
   "outputs": [],
   "source": [
    "[x / multiplier for x in range(min_, max_ + step_, step_)]"
   ]
  },
  {
   "cell_type": "markdown",
   "metadata": {},
   "source": [
    "### FloatLogSlider"
   ]
  },
  {
   "cell_type": "code",
   "execution_count": null,
   "metadata": {},
   "outputs": [],
   "source": [
    "float_log_slider = widgets.FloatLogSlider(min=-1, max=1, base=10)\n",
    "float_log_slider"
   ]
  },
  {
   "cell_type": "code",
   "execution_count": null,
   "metadata": {},
   "outputs": [],
   "source": [
    "float_log_progress = widgets.FloatProgress(max=10)\n",
    "float_log_progress"
   ]
  },
  {
   "cell_type": "code",
   "execution_count": null,
   "metadata": {},
   "outputs": [],
   "source": [
    "def float_log_slider_update(args):\n",
    "    float_log_progress.value = str(float_log_slider.value)\n",
    "float_log_slider_update(None)\n",
    "float_log_slider.observe(float_log_slider_update, \"value\")"
   ]
  },
  {
   "cell_type": "markdown",
   "metadata": {},
   "source": [
    "### FloatRangeSlider"
   ]
  },
  {
   "cell_type": "code",
   "execution_count": null,
   "metadata": {},
   "outputs": [],
   "source": [
    "float_range_slider = widgets.FloatRangeSlider(value=[0.2, 0.4], min=0, max=0.5, step=0.1)\n",
    "float_range_slider"
   ]
  },
  {
   "cell_type": "code",
   "execution_count": null,
   "metadata": {},
   "outputs": [],
   "source": [
    "float_range_slider_value = widgets.Label()\n",
    "float_range_slider_value"
   ]
  },
  {
   "cell_type": "code",
   "execution_count": null,
   "metadata": {},
   "outputs": [],
   "source": [
    "def float_range_slider_update(args):\n",
    "    float_range_slider_value.value = str(float_range_slider.value)\n",
    "float_range_slider_update(None)\n",
    "float_range_slider.observe(float_range_slider_update, \"value\")"
   ]
  },
  {
   "cell_type": "markdown",
   "metadata": {},
   "source": [
    "### BoundedFloatText"
   ]
  },
  {
   "cell_type": "code",
   "execution_count": null,
   "metadata": {},
   "outputs": [],
   "source": [
    "bounded_float_text = widgets.BoundedFloatText(value=1.1, min=1, max=1.5, step=0.1)\n",
    "bounded_float_text"
   ]
  },
  {
   "cell_type": "code",
   "execution_count": null,
   "metadata": {},
   "outputs": [],
   "source": [
    "bounded_float_text_value = widgets.Label()\n",
    "bounded_float_text_value"
   ]
  },
  {
   "cell_type": "code",
   "execution_count": null,
   "metadata": {},
   "outputs": [],
   "source": [
    "def bounded_float_text_update(args):\n",
    "    bounded_float_text_value.value = str(bounded_float_text.value)\n",
    "bounded_float_text_update(None)\n",
    "bounded_float_text.observe(bounded_float_text_update, \"value\")"
   ]
  },
  {
   "cell_type": "code",
   "execution_count": null,
   "metadata": {},
   "outputs": [],
   "source": []
  }
 ],
 "metadata": {
  "kernelspec": {
   "display_name": "Python 3 (ipykernel)",
   "language": "python",
   "name": "python3"
  },
  "language_info": {
   "codemirror_mode": {
    "name": "ipython",
    "version": 3
   },
   "file_extension": ".py",
   "mimetype": "text/x-python",
   "name": "python",
   "nbconvert_exporter": "python",
   "pygments_lexer": "ipython3",
   "version": "3.7.8"
  },
  "widgets": {
   "application/vnd.jupyter.widget-state+json": {
    "state": {
     "047b2ec190734b3e955866e9cc8d55f8": {
      "model_module": "@jupyter-widgets/base",
      "model_module_version": "1.2.0",
      "model_name": "LayoutModel",
      "state": {}
     },
     "068de766d9c343f8a07589307fccf98c": {
      "model_module": "@jupyter-widgets/base",
      "model_module_version": "1.2.0",
      "model_name": "LayoutModel",
      "state": {}
     },
     "233aad69a02e45e58b48de8e48332896": {
      "model_module": "@jupyter-widgets/controls",
      "model_module_version": "1.5.0",
      "model_name": "BoundedFloatTextModel",
      "state": {
       "layout": "IPY_MODEL_ac1d690db6d74c778bc59aad3ffdcd02",
       "max": 1.5,
       "min": 1,
       "style": "IPY_MODEL_9d6c75a30cc244ffad94178941935076",
       "value": 1.1
      }
     },
     "26d8b7fffce34cbab1ae972c5206a343": {
      "model_module": "@jupyter-widgets/base",
      "model_module_version": "1.2.0",
      "model_name": "LayoutModel",
      "state": {}
     },
     "3846d50c34944f0491bb592a033294b1": {
      "model_module": "@jupyter-widgets/base",
      "model_module_version": "1.2.0",
      "model_name": "LayoutModel",
      "state": {}
     },
     "4c1cae42512d4869bf3d5a8ff4280423": {
      "model_module": "@jupyter-widgets/controls",
      "model_module_version": "1.5.0",
      "model_name": "DescriptionStyleModel",
      "state": {
       "description_width": ""
      }
     },
     "528ce5eef1b84f63ad63832b0a1d78e4": {
      "model_module": "@jupyter-widgets/controls",
      "model_module_version": "1.5.0",
      "model_name": "SliderStyleModel",
      "state": {
       "description_width": ""
      }
     },
     "5a74eb8fcc0d4522886ac1d9157b2a1e": {
      "model_module": "@jupyter-widgets/controls",
      "model_module_version": "1.5.0",
      "model_name": "DescriptionStyleModel",
      "state": {
       "description_width": ""
      }
     },
     "7d72b912e91645868b8fb99ad21c2fd7": {
      "model_module": "@jupyter-widgets/controls",
      "model_module_version": "1.5.0",
      "model_name": "SliderStyleModel",
      "state": {
       "description_width": ""
      }
     },
     "89c4414bf3c74704a4edf34f411a7aff": {
      "model_module": "@jupyter-widgets/controls",
      "model_module_version": "1.5.0",
      "model_name": "SliderStyleModel",
      "state": {
       "description_width": ""
      }
     },
     "91851b4184d24b689fd02fb40e3cbebe": {
      "model_module": "@jupyter-widgets/base",
      "model_module_version": "1.2.0",
      "model_name": "LayoutModel",
      "state": {}
     },
     "981b970dc9ea4e2683ced4011f416a8f": {
      "model_module": "@jupyter-widgets/controls",
      "model_module_version": "1.5.0",
      "model_name": "FloatProgressModel",
      "state": {
       "layout": "IPY_MODEL_047b2ec190734b3e955866e9cc8d55f8",
       "max": 10,
       "style": "IPY_MODEL_a72ec5741f4f4d3f94064dc128397d97",
       "value": 1
      }
     },
     "9963b244d6844543843947dcc5162ce7": {
      "model_module": "@jupyter-widgets/base",
      "model_module_version": "1.2.0",
      "model_name": "LayoutModel",
      "state": {}
     },
     "9d6c75a30cc244ffad94178941935076": {
      "model_module": "@jupyter-widgets/controls",
      "model_module_version": "1.5.0",
      "model_name": "DescriptionStyleModel",
      "state": {
       "description_width": ""
      }
     },
     "a72ec5741f4f4d3f94064dc128397d97": {
      "model_module": "@jupyter-widgets/controls",
      "model_module_version": "1.5.0",
      "model_name": "ProgressStyleModel",
      "state": {
       "description_width": ""
      }
     },
     "ac1d690db6d74c778bc59aad3ffdcd02": {
      "model_module": "@jupyter-widgets/base",
      "model_module_version": "1.2.0",
      "model_name": "LayoutModel",
      "state": {}
     },
     "c88f25432b674c1daa38576665817a0f": {
      "model_module": "@jupyter-widgets/controls",
      "model_module_version": "1.5.0",
      "model_name": "FloatSliderModel",
      "state": {
       "layout": "IPY_MODEL_e4883667832741b49d72de90b78e5f52",
       "max": 0.3,
       "step": 0.1,
       "style": "IPY_MODEL_89c4414bf3c74704a4edf34f411a7aff",
       "value": 0.1
      }
     },
     "d9145b09ec6d4aa4b30d43c32be97155": {
      "model_module": "@jupyter-widgets/controls",
      "model_module_version": "1.5.0",
      "model_name": "FloatRangeSliderModel",
      "state": {
       "_model_name": "FloatRangeSliderModel",
       "_view_name": "FloatRangeSliderView",
       "layout": "IPY_MODEL_9963b244d6844543843947dcc5162ce7",
       "max": 0.5,
       "step": 0.1,
       "style": "IPY_MODEL_7d72b912e91645868b8fb99ad21c2fd7",
       "value": [
        0.2,
        0.4
       ]
      }
     },
     "dd6d8fc67ea944539c8a2d054d0e54e4": {
      "model_module": "@jupyter-widgets/controls",
      "model_module_version": "1.5.0",
      "model_name": "LabelModel",
      "state": {
       "layout": "IPY_MODEL_068de766d9c343f8a07589307fccf98c",
       "style": "IPY_MODEL_f8752f47bf3b465ea5b6a58f32f28e76",
       "value": "(0.2, 0.4)"
      }
     },
     "e4883667832741b49d72de90b78e5f52": {
      "model_module": "@jupyter-widgets/base",
      "model_module_version": "1.2.0",
      "model_name": "LayoutModel",
      "state": {}
     },
     "e95afe0c8ea64128b4b672448c8d0936": {
      "model_module": "@jupyter-widgets/controls",
      "model_module_version": "1.5.0",
      "model_name": "LabelModel",
      "state": {
       "layout": "IPY_MODEL_26d8b7fffce34cbab1ae972c5206a343",
       "style": "IPY_MODEL_4c1cae42512d4869bf3d5a8ff4280423",
       "value": "1.1"
      }
     },
     "f8752f47bf3b465ea5b6a58f32f28e76": {
      "model_module": "@jupyter-widgets/controls",
      "model_module_version": "1.5.0",
      "model_name": "DescriptionStyleModel",
      "state": {
       "description_width": ""
      }
     },
     "fdc4815d6ddf4614933754c3302a652d": {
      "model_module": "@jupyter-widgets/controls",
      "model_module_version": "1.5.0",
      "model_name": "LabelModel",
      "state": {
       "layout": "IPY_MODEL_3846d50c34944f0491bb592a033294b1",
       "style": "IPY_MODEL_5a74eb8fcc0d4522886ac1d9157b2a1e",
       "value": "0.1"
      }
     },
     "fde1d00eebe847448c843905900519f2": {
      "model_module": "@jupyter-widgets/controls",
      "model_module_version": "1.5.0",
      "model_name": "FloatLogSliderModel",
      "state": {
       "layout": "IPY_MODEL_91851b4184d24b689fd02fb40e3cbebe",
       "max": 1,
       "min": -1,
       "style": "IPY_MODEL_528ce5eef1b84f63ad63832b0a1d78e4"
      }
     }
    },
    "version_major": 2,
    "version_minor": 0
   }
  }
 },
 "nbformat": 4,
 "nbformat_minor": 4
}
